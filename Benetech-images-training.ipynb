{
 "cells": [
  {
   "cell_type": "code",
   "execution_count": 1,
   "id": "e7ccff4a",
   "metadata": {
    "_cell_guid": "b1076dfc-b9ad-4769-8c92-a6c4dae69d19",
    "_uuid": "8f2839f25d086af736a60e9eeb907d3b93b6e0e5",
    "execution": {
     "iopub.execute_input": "2023-03-31T21:11:48.000132Z",
     "iopub.status.busy": "2023-03-31T21:11:47.999620Z",
     "iopub.status.idle": "2023-03-31T21:11:48.020981Z",
     "shell.execute_reply": "2023-03-31T21:11:48.019739Z"
    },
    "papermill": {
     "duration": 0.033989,
     "end_time": "2023-03-31T21:11:48.024993",
     "exception": false,
     "start_time": "2023-03-31T21:11:47.991004",
     "status": "completed"
    },
    "tags": []
   },
   "outputs": [],
   "source": [
    "# This Python 3 environment comes with many helpful analytics libraries installed\n",
    "# It is defined by the kaggle/python Docker image: https://github.com/kaggle/docker-python\n",
    "# For example, here's several helpful packages to load\n",
    "\n",
    "import numpy as np # linear algebra\n",
    "import pandas as pd # data processing, CSV file I/O (e.g. pd.read_csv)\n",
    "\n",
    "# Input data files are available in the read-only \"../input/\" directory\n",
    "# For example, running this (by clicking run or pressing Shift+Enter) will list all files under the input directory\n",
    "\n",
    "import os\n",
    "# for dirname, _, filenames in os.walk('/kaggle/input'):\n",
    "#     for filename in filenames:\n",
    "#         print(os.path.join(dirname, filename))\n",
    "\n",
    "# You can write up to 20GB to the current directory (/kaggle/working/) that gets preserved as output when you create a version using \"Save & Run All\" \n",
    "# You can also write temporary files to /kaggle/temp/, but they won't be saved outside of the current session\n"
   ]
  },
  {
   "cell_type": "code",
   "execution_count": 2,
   "id": "8f8ffe84",
   "metadata": {
    "execution": {
     "iopub.execute_input": "2023-03-31T21:11:48.049053Z",
     "iopub.status.busy": "2023-03-31T21:11:48.048582Z",
     "iopub.status.idle": "2023-03-31T21:11:57.819885Z",
     "shell.execute_reply": "2023-03-31T21:11:57.818817Z"
    },
    "papermill": {
     "duration": 9.78671,
     "end_time": "2023-03-31T21:11:57.822504",
     "exception": false,
     "start_time": "2023-03-31T21:11:48.035794",
     "status": "completed"
    },
    "tags": []
   },
   "outputs": [],
   "source": [
    "import json\n",
    "import pandas as pd\n",
    "import numpy as np\n",
    "import os\n",
    "import sys\n",
    "import json\n",
    "import matplotlib.pyplot as plt\n",
    "import matplotlib.patches as pch\n",
    "import cv2\n",
    "from tqdm import tqdm\n",
    "from sklearn.preprocessing import OneHotEncoder, LabelEncoder\n",
    "from sklearn.model_selection import StratifiedKFold\n",
    "from sklearn.metrics import roc_auc_score\n",
    "import numpy as np\n",
    "import math, random\n",
    "import glob\n",
    "import matplotlib.pyplot as plt\n",
    "from sklearn.model_selection import train_test_split\n",
    "import copy\n",
    "from collections import defaultdict\n",
    "from tqdm import tqdm\n",
    "import tensorflow as tf\n",
    "import torch\n",
    "import torchvision\n",
    "import torch.utils.data\n",
    "from torchvision import transforms\n",
    "import torch.nn as nn\n",
    "import torch.nn.functional as F\n",
    "import torch.optim as optim\n",
    "from torch.optim import lr_scheduler\n",
    "from sklearn.preprocessing import OneHotEncoder, LabelEncoder\n",
    "from sklearn.model_selection import StratifiedKFold\n",
    "from sklearn.metrics import roc_auc_score\n",
    "import numpy as np\n",
    "import math, random\n",
    "import pandas as pd\n",
    "import pathlib\n",
    "import glob\n",
    "import numpy as np\n",
    "from PIL import Image\n",
    "import matplotlib.pyplot as plt\n",
    "import random\n",
    "from sklearn.model_selection import train_test_split\n",
    "import copy\n",
    "import time \n",
    "from collections import defaultdict\n",
    "from tqdm import tqdm\n",
    "import os\n",
    "import json\n",
    "\n",
    "\n",
    "# a=json.load('/kaggle/input/benetech-making-graphs-accessible/train/annotations/cc68f19b708c.json')"
   ]
  },
  {
   "cell_type": "code",
   "execution_count": 3,
   "id": "e45f1615",
   "metadata": {
    "execution": {
     "iopub.execute_input": "2023-03-31T21:11:57.835016Z",
     "iopub.status.busy": "2023-03-31T21:11:57.834380Z",
     "iopub.status.idle": "2023-03-31T21:11:57.839919Z",
     "shell.execute_reply": "2023-03-31T21:11:57.838813Z"
    },
    "papermill": {
     "duration": 0.014651,
     "end_time": "2023-03-31T21:11:57.842642",
     "exception": false,
     "start_time": "2023-03-31T21:11:57.827991",
     "status": "completed"
    },
    "tags": []
   },
   "outputs": [],
   "source": [
    "class CFG:\n",
    "    isOneHot = False\n",
    "    label_map = {'dot': 0, 'horizontal_bar' : 1, 'vertical_bar': 2, 'line': 3, 'scatter': 4}\n",
    "    num_classes = 5\n",
    "    batchSize = 32\n",
    "    fold_train = 0"
   ]
  },
  {
   "cell_type": "code",
   "execution_count": 4,
   "id": "84abba30",
   "metadata": {
    "execution": {
     "iopub.execute_input": "2023-03-31T21:11:57.854278Z",
     "iopub.status.busy": "2023-03-31T21:11:57.853990Z",
     "iopub.status.idle": "2023-03-31T21:11:57.867521Z",
     "shell.execute_reply": "2023-03-31T21:11:57.866606Z"
    },
    "papermill": {
     "duration": 0.021759,
     "end_time": "2023-03-31T21:11:57.869674",
     "exception": false,
     "start_time": "2023-03-31T21:11:57.847915",
     "status": "completed"
    },
    "tags": []
   },
   "outputs": [],
   "source": [
    "test_images=[]\n",
    "for i in os.listdir('/kaggle/input/benetech-making-graphs-accessible/test/images'):\n",
    "    test_images.append(i)"
   ]
  },
  {
   "cell_type": "code",
   "execution_count": 5,
   "id": "b6ae49b0",
   "metadata": {
    "execution": {
     "iopub.execute_input": "2023-03-31T21:11:57.881590Z",
     "iopub.status.busy": "2023-03-31T21:11:57.880915Z",
     "iopub.status.idle": "2023-03-31T21:11:57.888313Z",
     "shell.execute_reply": "2023-03-31T21:11:57.887332Z"
    },
    "papermill": {
     "duration": 0.015485,
     "end_time": "2023-03-31T21:11:57.890338",
     "exception": false,
     "start_time": "2023-03-31T21:11:57.874853",
     "status": "completed"
    },
    "tags": []
   },
   "outputs": [
    {
     "data": {
      "text/plain": [
       "['000b92c3b098.jpg',\n",
       " '01b45b831589.jpg',\n",
       " '00f5404753cf.jpg',\n",
       " '00dcf883a459.jpg',\n",
       " '007a18eb4e09.jpg']"
      ]
     },
     "execution_count": 5,
     "metadata": {},
     "output_type": "execute_result"
    }
   ],
   "source": [
    "test_images"
   ]
  },
  {
   "cell_type": "code",
   "execution_count": 6,
   "id": "60507603",
   "metadata": {
    "execution": {
     "iopub.execute_input": "2023-03-31T21:11:57.902538Z",
     "iopub.status.busy": "2023-03-31T21:11:57.901698Z",
     "iopub.status.idle": "2023-03-31T21:11:57.906064Z",
     "shell.execute_reply": "2023-03-31T21:11:57.905197Z"
    },
    "papermill": {
     "duration": 0.01253,
     "end_time": "2023-03-31T21:11:57.908075",
     "exception": false,
     "start_time": "2023-03-31T21:11:57.895545",
     "status": "completed"
    },
    "tags": []
   },
   "outputs": [],
   "source": [
    "# source,chart-type plot_bb(height,width,x0,y0), text(id,polygon(x0-x3,y0-y3),text,role)"
   ]
  },
  {
   "cell_type": "code",
   "execution_count": 7,
   "id": "a346f8a1",
   "metadata": {
    "execution": {
     "iopub.execute_input": "2023-03-31T21:11:57.920389Z",
     "iopub.status.busy": "2023-03-31T21:11:57.919508Z",
     "iopub.status.idle": "2023-03-31T21:11:57.930559Z",
     "shell.execute_reply": "2023-03-31T21:11:57.929691Z"
    },
    "papermill": {
     "duration": 0.019655,
     "end_time": "2023-03-31T21:11:57.932944",
     "exception": false,
     "start_time": "2023-03-31T21:11:57.913289",
     "status": "completed"
    },
    "tags": []
   },
   "outputs": [],
   "source": [
    "def convert_annot2df(path):\n",
    "    res = []\n",
    "    col_name = ['name', 'source', 'chart-type', 'plot-bb', 'text', 'x_axis', 'y_axis', 'data_series_x', 'data_series_y']\n",
    "    for i in tqdm(os.listdir(path)):\n",
    "        tmp_name = i[:-5]\n",
    "        tmp_data = [tmp_name]\n",
    "        tmp_json_file_path = os.path.join(path, i)\n",
    "        with open(tmp_json_file_path, 'r') as tmp_file:\n",
    "            tmp_json_data = json.load(tmp_file)\n",
    "        \n",
    "        tmp_data.append(tmp_json_data['source']) # generated / extracted\n",
    "        tmp_data.append(tmp_json_data['chart-type']) # dot, horizontal_bar, vertical_bar, line, scatter.\n",
    "        tmp_data.append(','.join(map(str, [tmp_json_data['plot-bb']['height'], tmp_json_data['plot-bb']['width'], \n",
    "                                           tmp_json_data['plot-bb']['x0'], tmp_json_data['plot-bb']['y0']])))\n",
    "        \n",
    "        # text\n",
    "        tmp_data.append(tmp_json_data['text'])\n",
    "        # axes\n",
    "        tmp_data.append(tmp_json_data['axes']['x-axis'])\n",
    "        tmp_data.append(tmp_json_data['axes']['y-axis'])\n",
    "        # data_series_x\n",
    "        tmp_data_series_x = []\n",
    "        # data_series_y\n",
    "        tmp_data_series_y = []\n",
    "        ground_truth=[]\n",
    "        for ds in tmp_json_data['data-series']:\n",
    "            tmp_data_series_x.append(str(ds['x']))\n",
    "            tmp_data_series_y.append(str(ds['y']))\n",
    "        tmp_data.append(';'.join(tmp_data_series_x))\n",
    "        tmp_data.append(';'.join(tmp_data_series_y))\n",
    "        \n",
    "        res.append(tmp_data)\n",
    "    return pd.DataFrame(res, columns=col_name)\n"
   ]
  },
  {
   "cell_type": "code",
   "execution_count": 8,
   "id": "921c7d33",
   "metadata": {
    "execution": {
     "iopub.execute_input": "2023-03-31T21:11:57.945114Z",
     "iopub.status.busy": "2023-03-31T21:11:57.944833Z",
     "iopub.status.idle": "2023-03-31T21:17:38.263804Z",
     "shell.execute_reply": "2023-03-31T21:17:38.262566Z"
    },
    "papermill": {
     "duration": 340.329021,
     "end_time": "2023-03-31T21:17:38.267401",
     "exception": false,
     "start_time": "2023-03-31T21:11:57.938380",
     "status": "completed"
    },
    "tags": []
   },
   "outputs": [
    {
     "name": "stderr",
     "output_type": "stream",
     "text": [
      "100%|██████████| 60578/60578 [05:39<00:00, 178.36it/s]\n"
     ]
    }
   ],
   "source": [
    "annotation_df = convert_annot2df('/kaggle/input/benetech-making-graphs-accessible/train/annotations')"
   ]
  },
  {
   "cell_type": "code",
   "execution_count": 9,
   "id": "25f3a821",
   "metadata": {
    "execution": {
     "iopub.execute_input": "2023-03-31T21:17:38.610210Z",
     "iopub.status.busy": "2023-03-31T21:17:38.609837Z",
     "iopub.status.idle": "2023-03-31T21:17:38.645336Z",
     "shell.execute_reply": "2023-03-31T21:17:38.644247Z"
    },
    "papermill": {
     "duration": 0.210239,
     "end_time": "2023-03-31T21:17:38.647840",
     "exception": false,
     "start_time": "2023-03-31T21:17:38.437601",
     "status": "completed"
    },
    "tags": []
   },
   "outputs": [
    {
     "data": {
      "text/html": [
       "<div>\n",
       "<style scoped>\n",
       "    .dataframe tbody tr th:only-of-type {\n",
       "        vertical-align: middle;\n",
       "    }\n",
       "\n",
       "    .dataframe tbody tr th {\n",
       "        vertical-align: top;\n",
       "    }\n",
       "\n",
       "    .dataframe thead th {\n",
       "        text-align: right;\n",
       "    }\n",
       "</style>\n",
       "<table border=\"1\" class=\"dataframe\">\n",
       "  <thead>\n",
       "    <tr style=\"text-align: right;\">\n",
       "      <th></th>\n",
       "      <th>name</th>\n",
       "      <th>source</th>\n",
       "      <th>chart-type</th>\n",
       "      <th>plot-bb</th>\n",
       "      <th>text</th>\n",
       "      <th>x_axis</th>\n",
       "      <th>y_axis</th>\n",
       "      <th>data_series_x</th>\n",
       "      <th>data_series_y</th>\n",
       "    </tr>\n",
       "  </thead>\n",
       "  <tbody>\n",
       "    <tr>\n",
       "      <th>0</th>\n",
       "      <td>cc68f19b708c</td>\n",
       "      <td>extracted</td>\n",
       "      <td>line</td>\n",
       "      <td>236,426,63,15</td>\n",
       "      <td>[{'id': 0, 'polygon': {'x0': 11, 'x1': 23, 'x2...</td>\n",
       "      <td>{'ticks': [{'id': 11, 'tick_pt': {'x': 116, 'y...</td>\n",
       "      <td>{'ticks': [{'id': 1, 'tick_pt': {'x': 63, 'y':...</td>\n",
       "      <td>10%;20%;30%;40%;50%;60%;70%</td>\n",
       "      <td>1.5481051373212678;11.520004347083574;14.05428...</td>\n",
       "    </tr>\n",
       "  </tbody>\n",
       "</table>\n",
       "</div>"
      ],
      "text/plain": [
       "           name     source chart-type        plot-bb  \\\n",
       "0  cc68f19b708c  extracted       line  236,426,63,15   \n",
       "\n",
       "                                                text  \\\n",
       "0  [{'id': 0, 'polygon': {'x0': 11, 'x1': 23, 'x2...   \n",
       "\n",
       "                                              x_axis  \\\n",
       "0  {'ticks': [{'id': 11, 'tick_pt': {'x': 116, 'y...   \n",
       "\n",
       "                                              y_axis  \\\n",
       "0  {'ticks': [{'id': 1, 'tick_pt': {'x': 63, 'y':...   \n",
       "\n",
       "                 data_series_x  \\\n",
       "0  10%;20%;30%;40%;50%;60%;70%   \n",
       "\n",
       "                                       data_series_y  \n",
       "0  1.5481051373212678;11.520004347083574;14.05428...  "
      ]
     },
     "execution_count": 9,
     "metadata": {},
     "output_type": "execute_result"
    }
   ],
   "source": [
    "annotation_df.head(1)"
   ]
  },
  {
   "cell_type": "code",
   "execution_count": 10,
   "id": "bc6ab0f4",
   "metadata": {
    "execution": {
     "iopub.execute_input": "2023-03-31T21:17:38.990322Z",
     "iopub.status.busy": "2023-03-31T21:17:38.989173Z",
     "iopub.status.idle": "2023-03-31T21:17:39.128724Z",
     "shell.execute_reply": "2023-03-31T21:17:39.127609Z"
    },
    "papermill": {
     "duration": 0.31413,
     "end_time": "2023-03-31T21:17:39.131407",
     "exception": false,
     "start_time": "2023-03-31T21:17:38.817277",
     "status": "completed"
    },
    "tags": []
   },
   "outputs": [],
   "source": [
    "annotation_df['ground_truth'] = '<|BOS|><'+ annotation_df['chart-type'] + '><x_start>' + annotation_df['data_series_x']+ '<x_end><y_start>'+ annotation_df['data_series_y'] + '<y_end>'"
   ]
  },
  {
   "cell_type": "code",
   "execution_count": 11,
   "id": "26b032a3",
   "metadata": {
    "execution": {
     "iopub.execute_input": "2023-03-31T21:17:39.486260Z",
     "iopub.status.busy": "2023-03-31T21:17:39.485233Z",
     "iopub.status.idle": "2023-03-31T21:17:39.515236Z",
     "shell.execute_reply": "2023-03-31T21:17:39.514216Z"
    },
    "papermill": {
     "duration": 0.217176,
     "end_time": "2023-03-31T21:17:39.517415",
     "exception": false,
     "start_time": "2023-03-31T21:17:39.300239",
     "status": "completed"
    },
    "tags": []
   },
   "outputs": [
    {
     "data": {
      "text/html": [
       "<div>\n",
       "<style scoped>\n",
       "    .dataframe tbody tr th:only-of-type {\n",
       "        vertical-align: middle;\n",
       "    }\n",
       "\n",
       "    .dataframe tbody tr th {\n",
       "        vertical-align: top;\n",
       "    }\n",
       "\n",
       "    .dataframe thead th {\n",
       "        text-align: right;\n",
       "    }\n",
       "</style>\n",
       "<table border=\"1\" class=\"dataframe\">\n",
       "  <thead>\n",
       "    <tr style=\"text-align: right;\">\n",
       "      <th></th>\n",
       "      <th>name</th>\n",
       "      <th>source</th>\n",
       "      <th>chart-type</th>\n",
       "      <th>plot-bb</th>\n",
       "      <th>text</th>\n",
       "      <th>x_axis</th>\n",
       "      <th>y_axis</th>\n",
       "      <th>data_series_x</th>\n",
       "      <th>data_series_y</th>\n",
       "      <th>ground_truth</th>\n",
       "    </tr>\n",
       "  </thead>\n",
       "  <tbody>\n",
       "    <tr>\n",
       "      <th>0</th>\n",
       "      <td>cc68f19b708c</td>\n",
       "      <td>extracted</td>\n",
       "      <td>line</td>\n",
       "      <td>236,426,63,15</td>\n",
       "      <td>[{'id': 0, 'polygon': {'x0': 11, 'x1': 23, 'x2...</td>\n",
       "      <td>{'ticks': [{'id': 11, 'tick_pt': {'x': 116, 'y...</td>\n",
       "      <td>{'ticks': [{'id': 1, 'tick_pt': {'x': 63, 'y':...</td>\n",
       "      <td>10%;20%;30%;40%;50%;60%;70%</td>\n",
       "      <td>1.5481051373212678;11.520004347083574;14.05428...</td>\n",
       "      <td>&lt;|BOS|&gt;&lt;line&gt;&lt;x_start&gt;10%;20%;30%;40%;50%;60%;...</td>\n",
       "    </tr>\n",
       "  </tbody>\n",
       "</table>\n",
       "</div>"
      ],
      "text/plain": [
       "           name     source chart-type        plot-bb  \\\n",
       "0  cc68f19b708c  extracted       line  236,426,63,15   \n",
       "\n",
       "                                                text  \\\n",
       "0  [{'id': 0, 'polygon': {'x0': 11, 'x1': 23, 'x2...   \n",
       "\n",
       "                                              x_axis  \\\n",
       "0  {'ticks': [{'id': 11, 'tick_pt': {'x': 116, 'y...   \n",
       "\n",
       "                                              y_axis  \\\n",
       "0  {'ticks': [{'id': 1, 'tick_pt': {'x': 63, 'y':...   \n",
       "\n",
       "                 data_series_x  \\\n",
       "0  10%;20%;30%;40%;50%;60%;70%   \n",
       "\n",
       "                                       data_series_y  \\\n",
       "0  1.5481051373212678;11.520004347083574;14.05428...   \n",
       "\n",
       "                                        ground_truth  \n",
       "0  <|BOS|><line><x_start>10%;20%;30%;40%;50%;60%;...  "
      ]
     },
     "execution_count": 11,
     "metadata": {},
     "output_type": "execute_result"
    }
   ],
   "source": [
    "annotation_df.head(1)"
   ]
  },
  {
   "cell_type": "code",
   "execution_count": 12,
   "id": "4b709d91",
   "metadata": {
    "execution": {
     "iopub.execute_input": "2023-03-31T21:17:39.901262Z",
     "iopub.status.busy": "2023-03-31T21:17:39.900580Z",
     "iopub.status.idle": "2023-03-31T21:17:39.905056Z",
     "shell.execute_reply": "2023-03-31T21:17:39.904064Z"
    },
    "papermill": {
     "duration": 0.222929,
     "end_time": "2023-03-31T21:17:39.907176",
     "exception": false,
     "start_time": "2023-03-31T21:17:39.684247",
     "status": "completed"
    },
    "tags": []
   },
   "outputs": [],
   "source": [
    "# annotation_df['len_x']=annotation_df['data_series_x'].apply(lambda x: len(x.split(';')))\n",
    "# annotation_df['len_y']=annotation_df['data_series_y'].apply(lambda x: len(x.split(';')))"
   ]
  },
  {
   "cell_type": "code",
   "execution_count": 13,
   "id": "281dd009",
   "metadata": {
    "execution": {
     "iopub.execute_input": "2023-03-31T21:17:40.243217Z",
     "iopub.status.busy": "2023-03-31T21:17:40.242848Z",
     "iopub.status.idle": "2023-03-31T21:17:40.280092Z",
     "shell.execute_reply": "2023-03-31T21:17:40.279122Z"
    },
    "papermill": {
     "duration": 0.208237,
     "end_time": "2023-03-31T21:17:40.282304",
     "exception": false,
     "start_time": "2023-03-31T21:17:40.074067",
     "status": "completed"
    },
    "tags": []
   },
   "outputs": [],
   "source": [
    "annotation_df['fname']=annotation_df['name'].apply(lambda x: '/kaggle/input/benetech-making-graphs-accessible/train/images/'+x+'.jpg')"
   ]
  },
  {
   "cell_type": "code",
   "execution_count": 14,
   "id": "baa6fba6",
   "metadata": {
    "execution": {
     "iopub.execute_input": "2023-03-31T21:17:40.624034Z",
     "iopub.status.busy": "2023-03-31T21:17:40.623303Z",
     "iopub.status.idle": "2023-03-31T21:17:40.645291Z",
     "shell.execute_reply": "2023-03-31T21:17:40.644603Z"
    },
    "papermill": {
     "duration": 0.195583,
     "end_time": "2023-03-31T21:17:40.647246",
     "exception": false,
     "start_time": "2023-03-31T21:17:40.451663",
     "status": "completed"
    },
    "tags": []
   },
   "outputs": [],
   "source": [
    "type_list=annotation_df['chart-type'].value_counts().index.to_list()\n",
    "chart_category={}\n",
    "for i in range(0,5):\n",
    "    chart_category[type_list[i]]=i\n",
    "def chart_type_category(label):\n",
    "    index= chart_category[label]\n",
    "    return index"
   ]
  },
  {
   "cell_type": "code",
   "execution_count": 15,
   "id": "2b97fbbb",
   "metadata": {
    "execution": {
     "iopub.execute_input": "2023-03-31T21:17:40.984563Z",
     "iopub.status.busy": "2023-03-31T21:17:40.983819Z",
     "iopub.status.idle": "2023-03-31T21:17:41.033273Z",
     "shell.execute_reply": "2023-03-31T21:17:41.032282Z"
    },
    "papermill": {
     "duration": 0.221801,
     "end_time": "2023-03-31T21:17:41.035761",
     "exception": false,
     "start_time": "2023-03-31T21:17:40.813960",
     "status": "completed"
    },
    "tags": []
   },
   "outputs": [],
   "source": [
    "annotation_df['ct_index']=annotation_df['chart-type'].apply(lambda x: chart_type_category(x))"
   ]
  },
  {
   "cell_type": "code",
   "execution_count": 16,
   "id": "e04e0954",
   "metadata": {
    "execution": {
     "iopub.execute_input": "2023-03-31T21:17:41.374596Z",
     "iopub.status.busy": "2023-03-31T21:17:41.374221Z",
     "iopub.status.idle": "2023-03-31T21:17:41.379028Z",
     "shell.execute_reply": "2023-03-31T21:17:41.378005Z"
    },
    "papermill": {
     "duration": 0.176064,
     "end_time": "2023-03-31T21:17:41.381191",
     "exception": false,
     "start_time": "2023-03-31T21:17:41.205127",
     "status": "completed"
    },
    "tags": []
   },
   "outputs": [],
   "source": [
    "# from tensorflow.keras.preprocessing.image import load_img\n",
    "# sample=load_img(annotation_df['fname'][10])\n",
    "# sample\n",
    "# # s=cv2.resize(sample,(300,300))"
   ]
  },
  {
   "cell_type": "code",
   "execution_count": 17,
   "id": "0b475a50",
   "metadata": {
    "execution": {
     "iopub.execute_input": "2023-03-31T21:17:41.891526Z",
     "iopub.status.busy": "2023-03-31T21:17:41.891086Z",
     "iopub.status.idle": "2023-03-31T21:17:41.895401Z",
     "shell.execute_reply": "2023-03-31T21:17:41.894421Z"
    },
    "papermill": {
     "duration": 0.285001,
     "end_time": "2023-03-31T21:17:41.900238",
     "exception": false,
     "start_time": "2023-03-31T21:17:41.615237",
     "status": "completed"
    },
    "tags": []
   },
   "outputs": [],
   "source": [
    "# from tensorflow.keras.preprocessing.image import img_to_array\n",
    "# sample_array.shape"
   ]
  },
  {
   "cell_type": "code",
   "execution_count": 18,
   "id": "42faddd1",
   "metadata": {
    "execution": {
     "iopub.execute_input": "2023-03-31T21:17:42.322456Z",
     "iopub.status.busy": "2023-03-31T21:17:42.321421Z",
     "iopub.status.idle": "2023-03-31T21:17:42.328683Z",
     "shell.execute_reply": "2023-03-31T21:17:42.327617Z"
    },
    "papermill": {
     "duration": 0.177221,
     "end_time": "2023-03-31T21:17:42.330818",
     "exception": false,
     "start_time": "2023-03-31T21:17:42.153597",
     "status": "completed"
    },
    "tags": []
   },
   "outputs": [],
   "source": [
    "hFlip=transforms.RandomHorizontalFlip(p=0.25)\n",
    "vFlip=transforms.RandomVerticalFlip(p=0.25)\n",
    "transforms_train = transforms.Compose([\n",
    "                                       transforms.ToTensor(),\n",
    "     transforms.Normalize((0.5, 0.5, 0.5), (0.5, 0.5, 0.5))])\n",
    "transforms_val = transforms.Compose(\n",
    "    [transforms.ToTensor(),\n",
    "     transforms.Normalize((0.5, 0.5, 0.5), (0.5, 0.5, 0.5))])\n",
    "transforms_test = transforms.Compose(\n",
    "    [transforms.ToTensor(),\n",
    "     transforms.Normalize((0.5, 0.5, 0.5), (0.5, 0.5, 0.5))])"
   ]
  },
  {
   "cell_type": "code",
   "execution_count": 19,
   "id": "f43e597c",
   "metadata": {
    "execution": {
     "iopub.execute_input": "2023-03-31T21:17:42.669263Z",
     "iopub.status.busy": "2023-03-31T21:17:42.668556Z",
     "iopub.status.idle": "2023-03-31T21:17:42.676195Z",
     "shell.execute_reply": "2023-03-31T21:17:42.675185Z"
    },
    "papermill": {
     "duration": 0.180252,
     "end_time": "2023-03-31T21:17:42.678255",
     "exception": false,
     "start_time": "2023-03-31T21:17:42.498003",
     "status": "completed"
    },
    "tags": []
   },
   "outputs": [],
   "source": [
    "class ImageCharts(torch.utils.data.Dataset):\n",
    "    def __init__(self, df, transforms  = None): ### phase = train/test\n",
    "        self.df = df\n",
    "        self.transforms = transforms\n",
    "\n",
    "    def __len__(self):\n",
    "        return len(self.df)\n",
    "\n",
    "    def __getitem__(self,idx):\n",
    "        name_img = self.df.iloc[idx]['fname']\n",
    "        img = cv2.imread(name_img)\n",
    "        img = cv2.cvtColor(img,cv2.COLOR_BGR2RGB)\n",
    "        img = cv2.resize(img,(500,300))\n",
    "        img = img.astype(np.float32)/255.0\n",
    "\n",
    "        label = np.array(self.df.iloc[idx]['ct_index'])\n",
    "\n",
    "        if(self.transforms is not None):\n",
    "            img = self.transforms(img)\n",
    "        return img, label"
   ]
  },
  {
   "cell_type": "code",
   "execution_count": 20,
   "id": "102e7461",
   "metadata": {
    "execution": {
     "iopub.execute_input": "2023-03-31T21:17:43.015338Z",
     "iopub.status.busy": "2023-03-31T21:17:43.014635Z",
     "iopub.status.idle": "2023-03-31T21:17:43.046585Z",
     "shell.execute_reply": "2023-03-31T21:17:43.045530Z"
    },
    "papermill": {
     "duration": 0.204472,
     "end_time": "2023-03-31T21:17:43.048998",
     "exception": false,
     "start_time": "2023-03-31T21:17:42.844526",
     "status": "completed"
    },
    "tags": []
   },
   "outputs": [],
   "source": [
    "def cv_split(Xtrain, ytrain, n_folds, seed):\n",
    "    kfold = StratifiedKFold(n_splits = n_folds, shuffle = True, random_state = seed)\n",
    "    for num, (train_index, val_index) in enumerate(kfold.split(Xtrain, ytrain)):\n",
    "        Xtrain.loc[val_index, 'fold'] = int(num)\n",
    "    Xtrain['fold'] = Xtrain['fold'].astype(int)\n",
    "    return Xtrain\n",
    "\n",
    "annotation_df = cv_split(annotation_df,annotation_df['ct_index'], 5, 42)"
   ]
  },
  {
   "cell_type": "code",
   "execution_count": 21,
   "id": "f7de6a37",
   "metadata": {
    "execution": {
     "iopub.execute_input": "2023-03-31T21:17:43.395418Z",
     "iopub.status.busy": "2023-03-31T21:17:43.395037Z",
     "iopub.status.idle": "2023-03-31T21:17:43.509243Z",
     "shell.execute_reply": "2023-03-31T21:17:43.508207Z"
    },
    "papermill": {
     "duration": 0.289573,
     "end_time": "2023-03-31T21:17:43.511994",
     "exception": false,
     "start_time": "2023-03-31T21:17:43.222421",
     "status": "completed"
    },
    "tags": []
   },
   "outputs": [],
   "source": [
    "train_ds = ImageCharts(annotation_df[annotation_df.fold != CFG.fold_train].reset_index(), transforms=transforms_train)\n",
    "val_ds = ImageCharts(annotation_df[annotation_df.fold == CFG.fold_train].reset_index(), transforms=transforms_val)\n",
    "train_dl = torch.utils.data.DataLoader(train_ds, batch_size= CFG.batchSize, shuffle=True)\n",
    "val_dl = torch.utils.data.DataLoader(val_ds, batch_size= CFG.batchSize, shuffle=True)"
   ]
  },
  {
   "cell_type": "code",
   "execution_count": 22,
   "id": "58452e47",
   "metadata": {
    "execution": {
     "iopub.execute_input": "2023-03-31T21:17:43.850775Z",
     "iopub.status.busy": "2023-03-31T21:17:43.849765Z",
     "iopub.status.idle": "2023-03-31T21:17:48.568420Z",
     "shell.execute_reply": "2023-03-31T21:17:48.567308Z"
    },
    "papermill": {
     "duration": 4.891121,
     "end_time": "2023-03-31T21:17:48.571136",
     "exception": false,
     "start_time": "2023-03-31T21:17:43.680015",
     "status": "completed"
    },
    "tags": []
   },
   "outputs": [
    {
     "name": "stderr",
     "output_type": "stream",
     "text": [
      "/opt/conda/lib/python3.7/site-packages/torchvision/models/_utils.py:209: UserWarning: The parameter 'pretrained' is deprecated since 0.13 and may be removed in the future, please use 'weights' instead.\n",
      "  f\"The parameter '{pretrained_param}' is deprecated since 0.13 and may be removed in the future, \"\n",
      "/opt/conda/lib/python3.7/site-packages/torchvision/models/_utils.py:223: UserWarning: Arguments other than a weight enum or `None` for 'weights' are deprecated since 0.13 and may be removed in the future. The current behavior is equivalent to passing `weights=None`.\n",
      "  warnings.warn(msg)\n"
     ]
    },
    {
     "data": {
      "text/plain": [
       "device(type='cuda', index=0)"
      ]
     },
     "execution_count": 22,
     "metadata": {},
     "output_type": "execute_result"
    }
   ],
   "source": [
    "model = torchvision.models.resnet50(pretrained=False)\n",
    "\n",
    "\n",
    "num_features = model.fc.in_features\n",
    "model.fc = nn.Linear(num_features, CFG.num_classes)\n",
    "device = torch.device(\"cuda:0\" if torch.cuda.is_available() else \"cpu\")\n",
    "myModel = model.to(device)\n",
    "next(myModel.parameters()).device"
   ]
  },
  {
   "cell_type": "code",
   "execution_count": 23,
   "id": "e385fbf3",
   "metadata": {
    "execution": {
     "iopub.execute_input": "2023-03-31T21:17:48.908190Z",
     "iopub.status.busy": "2023-03-31T21:17:48.907835Z",
     "iopub.status.idle": "2023-03-31T22:08:03.749189Z",
     "shell.execute_reply": "2023-03-31T22:08:03.748109Z"
    },
    "papermill": {
     "duration": 3015.179899,
     "end_time": "2023-03-31T22:08:03.918751",
     "exception": false,
     "start_time": "2023-03-31T21:17:48.738852",
     "status": "completed"
    },
    "tags": []
   },
   "outputs": [
    {
     "name": "stdout",
     "output_type": "stream",
     "text": [
      "Epoch [1/2], Step [50/1515], Loss : 1.1217\n",
      "Epoch [1/2], Step [100/1515], Loss : 0.8408\n",
      "Epoch [1/2], Step [150/1515], Loss : 0.6875\n",
      "Epoch [1/2], Step [200/1515], Loss : 0.5999\n",
      "Epoch [1/2], Step [250/1515], Loss : 0.5344\n",
      "Epoch [1/2], Step [300/1515], Loss : 0.4856\n",
      "Epoch [1/2], Step [350/1515], Loss : 0.4436\n",
      "Epoch [1/2], Step [400/1515], Loss : 0.4153\n",
      "Epoch [1/2], Step [450/1515], Loss : 0.3922\n",
      "Epoch [1/2], Step [500/1515], Loss : 0.3717\n",
      "Epoch [1/2], Step [550/1515], Loss : 0.3528\n",
      "Epoch [1/2], Step [600/1515], Loss : 0.3335\n",
      "Epoch [1/2], Step [650/1515], Loss : 0.3166\n",
      "Epoch [1/2], Step [700/1515], Loss : 0.3040\n",
      "Epoch [1/2], Step [750/1515], Loss : 0.2901\n",
      "Epoch [1/2], Step [800/1515], Loss : 0.2778\n",
      "Epoch [1/2], Step [850/1515], Loss : 0.2669\n",
      "Epoch [1/2], Step [900/1515], Loss : 0.2558\n",
      "Epoch [1/2], Step [950/1515], Loss : 0.2460\n",
      "Epoch [1/2], Step [1000/1515], Loss : 0.2362\n",
      "Epoch [1/2], Step [1050/1515], Loss : 0.2282\n",
      "Epoch [1/2], Step [1100/1515], Loss : 0.2206\n",
      "Epoch [1/2], Step [1150/1515], Loss : 0.2136\n",
      "Epoch [1/2], Step [1200/1515], Loss : 0.2057\n",
      "Epoch [1/2], Step [1250/1515], Loss : 0.1995\n",
      "Epoch [1/2], Step [1300/1515], Loss : 0.1934\n",
      "Epoch [1/2], Step [1350/1515], Loss : 0.1885\n",
      "Epoch [1/2], Step [1400/1515], Loss : 0.1830\n",
      "Epoch [1/2], Step [1450/1515], Loss : 0.1785\n",
      "Epoch [1/2], Step [1500/1515], Loss : 0.1737\n",
      "Epoch: 1, Loss: 0.1722, Accuracy: 0.9384\n",
      "Accuracy of the network val: 98.9766 %\n",
      "Saving best model!\n",
      "Epoch [2/2], Step [50/1515], Loss : 0.0282\n",
      "Epoch [2/2], Step [100/1515], Loss : 0.0207\n",
      "Epoch [2/2], Step [150/1515], Loss : 0.0215\n",
      "Epoch [2/2], Step [200/1515], Loss : 0.0235\n",
      "Epoch [2/2], Step [250/1515], Loss : 0.0260\n",
      "Epoch [2/2], Step [300/1515], Loss : 0.0259\n",
      "Epoch [2/2], Step [350/1515], Loss : 0.0254\n",
      "Epoch [2/2], Step [400/1515], Loss : 0.0249\n",
      "Epoch [2/2], Step [450/1515], Loss : 0.0260\n",
      "Epoch [2/2], Step [500/1515], Loss : 0.0274\n",
      "Epoch [2/2], Step [550/1515], Loss : 0.0276\n",
      "Epoch [2/2], Step [600/1515], Loss : 0.0264\n",
      "Epoch [2/2], Step [650/1515], Loss : 0.0270\n",
      "Epoch [2/2], Step [700/1515], Loss : 0.0264\n",
      "Epoch [2/2], Step [750/1515], Loss : 0.0261\n",
      "Epoch [2/2], Step [800/1515], Loss : 0.0262\n",
      "Epoch [2/2], Step [850/1515], Loss : 0.0258\n",
      "Epoch [2/2], Step [900/1515], Loss : 0.0252\n",
      "Epoch [2/2], Step [950/1515], Loss : 0.0256\n",
      "Epoch [2/2], Step [1000/1515], Loss : 0.0252\n",
      "Epoch [2/2], Step [1050/1515], Loss : 0.0246\n",
      "Epoch [2/2], Step [1100/1515], Loss : 0.0242\n",
      "Epoch [2/2], Step [1150/1515], Loss : 0.0234\n",
      "Epoch [2/2], Step [1200/1515], Loss : 0.0227\n",
      "Epoch [2/2], Step [1250/1515], Loss : 0.0221\n",
      "Epoch [2/2], Step [1300/1515], Loss : 0.0217\n",
      "Epoch [2/2], Step [1350/1515], Loss : 0.0212\n",
      "Epoch [2/2], Step [1400/1515], Loss : 0.0209\n",
      "Epoch [2/2], Step [1450/1515], Loss : 0.0203\n",
      "Epoch [2/2], Step [1500/1515], Loss : 0.0200\n",
      "Epoch: 2, Loss: 0.0198, Accuracy: 0.9943\n",
      "Accuracy of the network val: 99.6864 %\n",
      "Saving best model!\n",
      "Finished Training\n"
     ]
    }
   ],
   "source": [
    "def training(model, train_dl, val_dl, num_epochs):\n",
    "  # Loss Function, Optimizer and Scheduler\n",
    "    criterion = nn.CrossEntropyLoss()\n",
    "    optimizer = torch.optim.Adam(model.parameters(),lr=0.0001)\n",
    "    scheduler = torch.optim.lr_scheduler.OneCycleLR(optimizer, max_lr=0.001,\n",
    "                                                steps_per_epoch=int(len(train_dl)),\n",
    "                                                epochs=num_epochs,\n",
    "                                                anneal_strategy='linear')\n",
    "\n",
    "    # Repeat for each epoch\n",
    "    best_acc = -1\n",
    "    for epoch in range(num_epochs):\n",
    "        running_loss = 0.0\n",
    "        correct_prediction = 0\n",
    "        total_prediction = 0\n",
    "\n",
    "    # Repeat for each batch in the training set\n",
    "        for i, data in enumerate(train_dl):\n",
    "            # Get the input features and target labels, and put them on the GPU\n",
    "            inputs, labels = data[0].to(device), data[1].to(device)\n",
    "            \n",
    "            # Normalize the inputs\n",
    "            inputs_m, inputs_s = inputs.mean(), inputs.std()\n",
    "            inputs = (inputs - inputs_m) / inputs_s\n",
    "\n",
    "            # Zero the parameter gradients\n",
    "            optimizer.zero_grad()\n",
    "\n",
    "            # forward + backward + optimize\n",
    "            outputs = model(inputs)\n",
    "            loss = criterion(outputs, labels)\n",
    "            loss.backward()\n",
    "            optimizer.step()\n",
    "            scheduler.step()\n",
    "\n",
    "            # Keep stats for Loss and Accuracy\n",
    "            running_loss += loss.item()\n",
    "\n",
    "            # Get the predicted class with the highest score\n",
    "            _, prediction = torch.max(outputs,1)\n",
    "            # Count of predictions that matched the target label\n",
    "            correct_prediction += (prediction == labels).sum().item()\n",
    "            total_prediction += prediction.shape[0]\n",
    "\n",
    "            if (i + 1) % 50 == 0:    # print every 10 mini-batches\n",
    "                print('Epoch [{}/{}], Step [{}/{}], Loss : {:.4f}'.format(epoch + 1, num_epochs, i + 1, len(train_dl), running_loss/(i + 1)))\n",
    "    \n",
    "        # Print stats at the end of the epoch\n",
    "        num_batches = len(train_dl)\n",
    "        avg_loss = running_loss / num_batches\n",
    "        acc = correct_prediction/total_prediction\n",
    "        print(f'Epoch: {epoch + 1}, Loss: {avg_loss:.4f}, Accuracy: {acc:.4f}')\n",
    "\n",
    "        gt = []\n",
    "        pred = []\n",
    "\n",
    "        with torch.no_grad():\n",
    "            correct = 0\n",
    "            total = 0\n",
    "            val_loss = 0 \n",
    "            for idx, data_ in enumerate(val_dl):\n",
    "                inputs, labels = data_[0].to(device), data_[1].to(device)\n",
    "\n",
    "                # Normalize the inputs\n",
    "                inputs_m, inputs_s = inputs.mean(), inputs.std()\n",
    "                inputs = (inputs - inputs_m) / inputs_s\n",
    "\n",
    "                # forward + backward + optimize\n",
    "                outputs = model(inputs)\n",
    "                loss = criterion(outputs, labels)\n",
    "\n",
    "                # Keep stats for Loss and Accuracy\n",
    "                val_loss += loss.item()\n",
    "\n",
    "                # Get the predicted class with the highest score\n",
    "                _, prediction = torch.max(outputs,1)\n",
    "                predi = torch.softmax(outputs, dim = -1)\n",
    "                gt.append(labels)\n",
    "                pred.append(predi[:,1])\n",
    "                # Count of predictions that matched the target label\n",
    "                correct += (prediction == labels).sum().item()\n",
    "                total += prediction.shape[0]\n",
    "            print('Accuracy of the network val: {:.4f} %'.format(100 * correct / total))\n",
    "\n",
    "            final_score = 100 * correct / total\n",
    "\n",
    "\n",
    "            if (best_acc < final_score):\n",
    "                best_acc = final_score\n",
    "                print(\"Saving best model!\")\n",
    "            torch.save(model.state_dict(), f'Benetech _ResNet50_fold0.pth')\n",
    "\n",
    "    print('Finished Training')\n",
    "  \n",
    "num_epochs=2   # Just for demo, adjust this higher.\n",
    "training(myModel, train_dl, val_dl, num_epochs)"
   ]
  },
  {
   "cell_type": "code",
   "execution_count": 24,
   "id": "c3d80556",
   "metadata": {
    "execution": {
     "iopub.execute_input": "2023-03-31T22:08:04.259735Z",
     "iopub.status.busy": "2023-03-31T22:08:04.258633Z",
     "iopub.status.idle": "2023-03-31T22:08:04.264215Z",
     "shell.execute_reply": "2023-03-31T22:08:04.263154Z"
    },
    "papermill": {
     "duration": 0.178066,
     "end_time": "2023-03-31T22:08:04.266401",
     "exception": false,
     "start_time": "2023-03-31T22:08:04.088335",
     "status": "completed"
    },
    "tags": []
   },
   "outputs": [],
   "source": [
    "# sample_rec_data = sample_data['text'].values[0]\n",
    "# fig = plt.figure()\n",
    "# ax = fig.add_subplot(111)\n",
    "# image = cv2.imread('/kaggle/input/benetech-making-graphs-accessible/train/images/'+sample_data['name'].values[0]+'.jpg')\n",
    "# plt.imshow(image)\n",
    "\n",
    "# for i in range(len(sample_rec_data)):\n",
    "#     rect = pch.Rectangle(xy=(sample_rec_data[i]['polygon']['x0'], sample_rec_data[i]['polygon']['y0']), \n",
    "#                            width=sample_rec_data[i]['polygon']['x1'] - sample_rec_data[i]['polygon']['x0'],\n",
    "#                            height=sample_rec_data[i]['polygon']['y3'] - sample_rec_data[i]['polygon']['y0'],\n",
    "#                         color='red', fill=False)\n",
    "#     ax.add_patch(rect)"
   ]
  },
  {
   "cell_type": "code",
   "execution_count": null,
   "id": "b3e13eea",
   "metadata": {
    "papermill": {
     "duration": 0.169257,
     "end_time": "2023-03-31T22:08:04.608698",
     "exception": false,
     "start_time": "2023-03-31T22:08:04.439441",
     "status": "completed"
    },
    "tags": []
   },
   "outputs": [],
   "source": []
  }
 ],
 "metadata": {
  "kernelspec": {
   "display_name": "Python 3",
   "language": "python",
   "name": "python3"
  },
  "language_info": {
   "codemirror_mode": {
    "name": "ipython",
    "version": 3
   },
   "file_extension": ".py",
   "mimetype": "text/x-python",
   "name": "python",
   "nbconvert_exporter": "python",
   "pygments_lexer": "ipython3",
   "version": "3.7.12"
  },
  "papermill": {
   "default_parameters": {},
   "duration": 3388.787165,
   "end_time": "2023-03-31T22:08:07.653697",
   "environment_variables": {},
   "exception": null,
   "input_path": "__notebook__.ipynb",
   "output_path": "__notebook__.ipynb",
   "parameters": {},
   "start_time": "2023-03-31T21:11:38.866532",
   "version": "2.4.0"
  }
 },
 "nbformat": 4,
 "nbformat_minor": 5
}
