{
 "cells": [
  {
   "cell_type": "code",
   "execution_count": 1,
   "id": "5845d231",
   "metadata": {
    "_cell_guid": "b1076dfc-b9ad-4769-8c92-a6c4dae69d19",
    "_uuid": "8f2839f25d086af736a60e9eeb907d3b93b6e0e5",
    "execution": {
     "iopub.execute_input": "2023-03-26T19:12:23.227606Z",
     "iopub.status.busy": "2023-03-26T19:12:23.227177Z",
     "iopub.status.idle": "2023-03-26T19:12:23.246634Z",
     "shell.execute_reply": "2023-03-26T19:12:23.245632Z"
    },
    "papermill": {
     "duration": 0.033828,
     "end_time": "2023-03-26T19:12:23.249857",
     "exception": false,
     "start_time": "2023-03-26T19:12:23.216029",
     "status": "completed"
    },
    "tags": []
   },
   "outputs": [
    {
     "name": "stdout",
     "output_type": "stream",
     "text": [
      "/kaggle/input/how-to-get-32gb-ram/train_labels.parquet\n",
      "/kaggle/input/how-to-get-32gb-ram/__results__.html\n",
      "/kaggle/input/how-to-get-32gb-ram/train.parquet\n",
      "/kaggle/input/how-to-get-32gb-ram/submission.csv\n",
      "/kaggle/input/how-to-get-32gb-ram/__notebook__.ipynb\n",
      "/kaggle/input/how-to-get-32gb-ram/__output__.json\n",
      "/kaggle/input/how-to-get-32gb-ram/custom.css\n"
     ]
    }
   ],
   "source": [
    "# This Python 3 environment comes with many helpful analytics libraries installed\n",
    "# It is defined by the kaggle/python Docker image: https://github.com/kaggle/docker-python\n",
    "# For example, here's several helpful packages to load\n",
    "\n",
    "import numpy as np # linear algebra\n",
    "import pandas as pd # data processing, CSV file I/O (e.g. pd.read_csv)\n",
    "\n",
    "# Input data files are available in the read-only \"../input/\" directory\n",
    "# For example, running this (by clicking run or pressing Shift+Enter) will list all files under the input directory\n",
    "\n",
    "import os\n",
    "for dirname, _, filenames in os.walk('/kaggle/input'):\n",
    "    for filename in filenames:\n",
    "        print(os.path.join(dirname, filename))\n",
    "\n",
    "# You can write up to 20GB to the current directory (/kaggle/working/) that gets preserved as output when you create a version using \"Save & Run All\" \n",
    "# You can also write temporary files to /kaggle/temp/, but they won't be saved outside of the current session"
   ]
  },
  {
   "cell_type": "code",
   "execution_count": 2,
   "id": "f0797ba4",
   "metadata": {
    "execution": {
     "iopub.execute_input": "2023-03-26T19:12:23.267615Z",
     "iopub.status.busy": "2023-03-26T19:12:23.266831Z",
     "iopub.status.idle": "2023-03-26T19:12:35.689348Z",
     "shell.execute_reply": "2023-03-26T19:12:35.688151Z"
    },
    "papermill": {
     "duration": 12.43467,
     "end_time": "2023-03-26T19:12:35.692401",
     "exception": false,
     "start_time": "2023-03-26T19:12:23.257731",
     "status": "completed"
    },
    "tags": []
   },
   "outputs": [
    {
     "data": {
      "text/html": [
       "<style type='text/css'>\n",
       ".datatable table.frame { margin-bottom: 0; }\n",
       ".datatable table.frame thead { border-bottom: none; }\n",
       ".datatable table.frame tr.coltypes td {  color: #FFFFFF;  line-height: 6px;  padding: 0 0.5em;}\n",
       ".datatable .bool    { background: #DDDD99; }\n",
       ".datatable .object  { background: #565656; }\n",
       ".datatable .int     { background: #5D9E5D; }\n",
       ".datatable .float   { background: #4040CC; }\n",
       ".datatable .str     { background: #CC4040; }\n",
       ".datatable .time    { background: #40CC40; }\n",
       ".datatable .row_index {  background: var(--jp-border-color3);  border-right: 1px solid var(--jp-border-color0);  color: var(--jp-ui-font-color3);  font-size: 9px;}\n",
       ".datatable .frame tbody td { text-align: left; }\n",
       ".datatable .frame tr.coltypes .row_index {  background: var(--jp-border-color0);}\n",
       ".datatable th:nth-child(2) { padding-left: 12px; }\n",
       ".datatable .hellipsis {  color: var(--jp-cell-editor-border-color);}\n",
       ".datatable .vellipsis {  background: var(--jp-layout-color0);  color: var(--jp-cell-editor-border-color);}\n",
       ".datatable .na {  color: var(--jp-cell-editor-border-color);  font-size: 80%;}\n",
       ".datatable .sp {  opacity: 0.25;}\n",
       ".datatable .footer { font-size: 9px; }\n",
       ".datatable .frame_dimensions {  background: var(--jp-border-color3);  border-top: 1px solid var(--jp-border-color0);  color: var(--jp-ui-font-color3);  display: inline-block;  opacity: 0.6;  padding: 1px 10px 1px 5px;}\n",
       "</style>\n"
      ],
      "text/plain": [
       "<IPython.core.display.HTML object>"
      ]
     },
     "metadata": {},
     "output_type": "display_data"
    }
   ],
   "source": [
    "import gc\n",
    "import os\n",
    "\n",
    "import pandas as pd\n",
    "import numpy as np\n",
    "import warnings\n",
    "import pickle\n",
    "import polars as pl\n",
    "\n",
    "from collections import defaultdict\n",
    "from itertools import combinations\n",
    "import pyarrow as pa\n",
    "\n",
    "from xgboost import XGBClassifier\n",
    "\n",
    "from lightgbm import LGBMClassifier\n",
    "from lightgbm import early_stopping\n",
    "from lightgbm import log_evaluation\n",
    "\n",
    "from sklearn.model_selection import KFold\n",
    "from sklearn.metrics import roc_auc_score, f1_score\n",
    "from sklearn.preprocessing import StandardScaler\n",
    "\n",
    "import tensorflow as tf\n",
    "from tensorflow.keras.models import Model\n",
    "from tensorflow.keras.callbacks import ReduceLROnPlateau, EarlyStopping\n",
    "from tensorflow.keras.layers import Dense, Input, Dropout, Concatenate,BatchNormalization\n",
    "\n",
    "import matplotlib.pyplot as plt\n",
    "from colorama import Fore, Back, Style\n",
    "\n",
    "import os,gc\n",
    "import numpy as np\n",
    "import matplotlib.pyplot as plt\n",
    "import tensorflow as tf\n",
    "import tensorflow_addons as tfa\n",
    "from tensorflow.keras import layers\n",
    "import transformers\n",
    "from transformers import logging as hf_logging\n",
    "hf_logging.set_verbosity_error()\n",
    "\n",
    "import tensorflow_addons as tfa\n",
    "\n",
    "\n",
    "# Importing necessary libraries\n",
    "\n",
    "import string\n",
    "import random\n",
    "\n",
    "import requests\n",
    "from io import BytesIO\n",
    "import warnings \n",
    "import keras_tuner as kt\n",
    "\n",
    "warnings.filterwarnings(\"ignore\")\n",
    "%matplotlib inline"
   ]
  },
  {
   "cell_type": "code",
   "execution_count": 3,
   "id": "0aada339",
   "metadata": {
    "execution": {
     "iopub.execute_input": "2023-03-26T19:12:35.710594Z",
     "iopub.status.busy": "2023-03-26T19:12:35.709783Z",
     "iopub.status.idle": "2023-03-26T19:12:35.730073Z",
     "shell.execute_reply": "2023-03-26T19:12:35.728846Z"
    },
    "papermill": {
     "duration": 0.032426,
     "end_time": "2023-03-26T19:12:35.732728",
     "exception": false,
     "start_time": "2023-03-26T19:12:35.700302",
     "status": "completed"
    },
    "tags": []
   },
   "outputs": [],
   "source": [
    "CATS = ['event_name', 'name', 'fqid', 'room_fqid', 'text_fqid']\n",
    "NUMS = ['page', 'room_coor_x', 'room_coor_y', 'screen_coor_x', 'screen_coor_y',\n",
    "        'hover_duration', 'elapsed_time_diff']\n",
    "\n",
    "name_feature = ['basic', 'undefined', 'close', 'open', 'prev', 'next']\n",
    "event_name_feature = ['cutscene_click', 'person_click', 'navigate_click',\n",
    "       'observation_click', 'notification_click', 'object_click',\n",
    "       'object_hover', 'map_hover', 'map_click', 'checkpoint',\n",
    "       'notebook_click']\n",
    "\n",
    "# from https://www.kaggle.com/code/leehomhuang/catboost-baseline-with-lots-features-inference :\n",
    "fqid_lists = ['worker', 'archivist', 'gramps', 'wells', 'toentry', 'confrontation', 'crane_ranger', 'groupconvo', 'flag_girl', 'tomap', 'tostacks', 'tobasement', 'archivist_glasses', 'boss', 'journals', 'seescratches', 'groupconvo_flag', 'cs', 'teddy', 'expert', 'businesscards', 'ch3start', 'tunic.historicalsociety', 'tofrontdesk', 'savedteddy', 'plaque', 'glasses', 'tunic.drycleaner', 'reader_flag', 'tunic.library', 'tracks', 'tunic.capitol_2', 'trigger_scarf', 'reader', 'directory', 'tunic.capitol_1', 'journals.pic_0.next', 'unlockdoor', 'tunic', 'what_happened', 'tunic.kohlcenter', 'tunic.humanecology', 'colorbook', 'logbook', 'businesscards.card_0.next', 'journals.hub.topics', 'logbook.page.bingo', 'journals.pic_1.next', 'journals_flag', 'reader.paper0.next', 'tracks.hub.deer', 'reader_flag.paper0.next', 'trigger_coffee', 'wellsbadge', 'journals.pic_2.next', 'tomicrofiche', 'journals_flag.pic_0.bingo', 'plaque.face.date', 'notebook', 'tocloset_dirty', 'businesscards.card_bingo.bingo', 'businesscards.card_1.next', 'tunic.wildlife', 'tunic.hub.slip', 'tocage', 'journals.pic_2.bingo', 'tocollectionflag', 'tocollection', 'chap4_finale_c', 'chap2_finale_c', 'lockeddoor', 'journals_flag.hub.topics', 'tunic.capitol_0', 'reader_flag.paper2.bingo', 'photo', 'tunic.flaghouse', 'reader.paper1.next', 'directory.closeup.archivist', 'intro', 'businesscards.card_bingo.next', 'reader.paper2.bingo', 'retirement_letter', 'remove_cup', 'journals_flag.pic_0.next', 'magnify', 'coffee', 'key', 'togrampa', 'reader_flag.paper1.next', 'janitor', 'tohallway', 'chap1_finale', 'report', 'outtolunch', 'journals_flag.hub.topics_old', 'journals_flag.pic_1.next', 'reader.paper2.next', 'chap1_finale_c', 'reader_flag.paper2.next', 'door_block_talk', 'journals_flag.pic_1.bingo', 'journals_flag.pic_2.next', 'journals_flag.pic_2.bingo', 'block_magnify', 'reader.paper0.prev', 'block', 'reader_flag.paper0.prev', 'block_0', 'door_block_clean', 'reader.paper2.prev', 'reader.paper1.prev', 'doorblock', 'tocloset', 'reader_flag.paper2.prev', 'reader_flag.paper1.prev', 'block_tomap2', 'journals_flag.pic_0_old.next', 'journals_flag.pic_1_old.next', 'block_tocollection', 'block_nelson', 'journals_flag.pic_2_old.next', 'block_tomap1', 'block_badge', 'need_glasses', 'block_badge_2', 'fox', 'block_1']\n",
    "text_lists = ['tunic.historicalsociety.cage.confrontation', 'tunic.wildlife.center.crane_ranger.crane', 'tunic.historicalsociety.frontdesk.archivist.newspaper', 'tunic.historicalsociety.entry.groupconvo', 'tunic.wildlife.center.wells.nodeer', 'tunic.historicalsociety.frontdesk.archivist.have_glass', 'tunic.drycleaner.frontdesk.worker.hub', 'tunic.historicalsociety.closet_dirty.gramps.news', 'tunic.humanecology.frontdesk.worker.intro', 'tunic.historicalsociety.frontdesk.archivist_glasses.confrontation', 'tunic.historicalsociety.basement.seescratches', 'tunic.historicalsociety.collection.cs', 'tunic.flaghouse.entry.flag_girl.hello', 'tunic.historicalsociety.collection.gramps.found', 'tunic.historicalsociety.basement.ch3start', 'tunic.historicalsociety.entry.groupconvo_flag', 'tunic.library.frontdesk.worker.hello', 'tunic.library.frontdesk.worker.wells', 'tunic.historicalsociety.collection_flag.gramps.flag', 'tunic.historicalsociety.basement.savedteddy', 'tunic.library.frontdesk.worker.nelson', 'tunic.wildlife.center.expert.removed_cup', 'tunic.library.frontdesk.worker.flag', 'tunic.historicalsociety.frontdesk.archivist.hello', 'tunic.historicalsociety.closet.gramps.intro_0_cs_0', 'tunic.historicalsociety.entry.boss.flag', 'tunic.flaghouse.entry.flag_girl.symbol', 'tunic.historicalsociety.closet_dirty.trigger_scarf', 'tunic.drycleaner.frontdesk.worker.done', 'tunic.historicalsociety.closet_dirty.what_happened', 'tunic.wildlife.center.wells.animals', 'tunic.historicalsociety.closet.teddy.intro_0_cs_0', 'tunic.historicalsociety.cage.glasses.afterteddy', 'tunic.historicalsociety.cage.teddy.trapped', 'tunic.historicalsociety.cage.unlockdoor', 'tunic.historicalsociety.stacks.journals.pic_2.bingo', 'tunic.historicalsociety.entry.wells.flag', 'tunic.humanecology.frontdesk.worker.badger', 'tunic.historicalsociety.stacks.journals_flag.pic_0.bingo', 'tunic.historicalsociety.closet.intro', 'tunic.historicalsociety.closet.retirement_letter.hub', 'tunic.historicalsociety.entry.directory.closeup.archivist', 'tunic.historicalsociety.collection.tunic.slip', 'tunic.kohlcenter.halloffame.plaque.face.date', 'tunic.historicalsociety.closet_dirty.trigger_coffee', 'tunic.drycleaner.frontdesk.logbook.page.bingo', 'tunic.library.microfiche.reader.paper2.bingo', 'tunic.kohlcenter.halloffame.togrampa', 'tunic.capitol_2.hall.boss.haveyougotit', 'tunic.wildlife.center.wells.nodeer_recap', 'tunic.historicalsociety.cage.glasses.beforeteddy', 'tunic.historicalsociety.closet_dirty.gramps.helpclean', 'tunic.wildlife.center.expert.recap', 'tunic.historicalsociety.frontdesk.archivist.have_glass_recap', 'tunic.historicalsociety.stacks.journals_flag.pic_1.bingo', 'tunic.historicalsociety.cage.lockeddoor', 'tunic.historicalsociety.stacks.journals_flag.pic_2.bingo', 'tunic.historicalsociety.collection.gramps.lost', 'tunic.historicalsociety.closet.notebook', 'tunic.historicalsociety.frontdesk.magnify', 'tunic.humanecology.frontdesk.businesscards.card_bingo.bingo', 'tunic.wildlife.center.remove_cup', 'tunic.library.frontdesk.wellsbadge.hub', 'tunic.wildlife.center.tracks.hub.deer', 'tunic.historicalsociety.frontdesk.key', 'tunic.library.microfiche.reader_flag.paper2.bingo', 'tunic.flaghouse.entry.colorbook', 'tunic.wildlife.center.coffee', 'tunic.capitol_1.hall.boss.haveyougotit', 'tunic.historicalsociety.basement.janitor', 'tunic.historicalsociety.collection_flag.gramps.recap', 'tunic.wildlife.center.wells.animals2', 'tunic.flaghouse.entry.flag_girl.symbol_recap', 'tunic.historicalsociety.closet_dirty.photo', 'tunic.historicalsociety.stacks.outtolunch', 'tunic.library.frontdesk.worker.wells_recap', 'tunic.historicalsociety.frontdesk.archivist_glasses.confrontation_recap', 'tunic.capitol_0.hall.boss.talktogramps', 'tunic.historicalsociety.closet.photo', 'tunic.historicalsociety.collection.tunic', 'tunic.historicalsociety.closet.teddy.intro_0_cs_5', 'tunic.historicalsociety.closet_dirty.gramps.archivist', 'tunic.historicalsociety.closet_dirty.door_block_talk', 'tunic.historicalsociety.entry.boss.flag_recap', 'tunic.historicalsociety.frontdesk.archivist.need_glass_0', 'tunic.historicalsociety.entry.wells.talktogramps', 'tunic.historicalsociety.frontdesk.block_magnify', 'tunic.historicalsociety.frontdesk.archivist.foundtheodora', 'tunic.historicalsociety.closet_dirty.gramps.nothing', 'tunic.historicalsociety.closet_dirty.door_block_clean', 'tunic.capitol_1.hall.boss.writeitup', 'tunic.library.frontdesk.worker.nelson_recap', 'tunic.library.frontdesk.worker.hello_short', 'tunic.historicalsociety.stacks.block', 'tunic.historicalsociety.frontdesk.archivist.need_glass_1', 'tunic.historicalsociety.entry.boss.talktogramps', 'tunic.historicalsociety.frontdesk.archivist.newspaper_recap', 'tunic.historicalsociety.entry.wells.flag_recap', 'tunic.drycleaner.frontdesk.worker.done2', 'tunic.library.frontdesk.worker.flag_recap', 'tunic.humanecology.frontdesk.block_0', 'tunic.library.frontdesk.worker.preflag', 'tunic.historicalsociety.basement.gramps.seeyalater', 'tunic.flaghouse.entry.flag_girl.hello_recap', 'tunic.historicalsociety.closet.doorblock', 'tunic.drycleaner.frontdesk.worker.takealook', 'tunic.historicalsociety.basement.gramps.whatdo', 'tunic.library.frontdesk.worker.droppedbadge', 'tunic.historicalsociety.entry.block_tomap2', 'tunic.library.frontdesk.block_nelson', 'tunic.library.microfiche.block_0', 'tunic.historicalsociety.entry.block_tocollection', 'tunic.historicalsociety.entry.block_tomap1', 'tunic.historicalsociety.collection.gramps.look_0', 'tunic.library.frontdesk.block_badge', 'tunic.historicalsociety.cage.need_glasses', 'tunic.library.frontdesk.block_badge_2', 'tunic.kohlcenter.halloffame.block_0', 'tunic.capitol_0.hall.chap1_finale_c', 'tunic.capitol_1.hall.chap2_finale_c', 'tunic.capitol_2.hall.chap4_finale_c', 'tunic.wildlife.center.fox.concern', 'tunic.drycleaner.frontdesk.block_0', 'tunic.historicalsociety.entry.gramps.hub', 'tunic.humanecology.frontdesk.block_1', 'tunic.drycleaner.frontdesk.block_1']\n",
    "room_lists = ['tunic.historicalsociety.entry', 'tunic.wildlife.center', 'tunic.historicalsociety.cage', 'tunic.library.frontdesk', 'tunic.historicalsociety.frontdesk', 'tunic.historicalsociety.stacks', 'tunic.historicalsociety.closet_dirty', 'tunic.humanecology.frontdesk', 'tunic.historicalsociety.basement', 'tunic.kohlcenter.halloffame', 'tunic.library.microfiche', 'tunic.drycleaner.frontdesk', 'tunic.historicalsociety.collection', 'tunic.historicalsociety.closet', 'tunic.flaghouse.entry', 'tunic.historicalsociety.collection_flag', 'tunic.capitol_1.hall', 'tunic.capitol_0.hall', 'tunic.capitol_2.hall']"
   ]
  },
  {
   "cell_type": "code",
   "execution_count": 4,
   "id": "eb5c6b90",
   "metadata": {
    "execution": {
     "iopub.execute_input": "2023-03-26T19:12:35.750359Z",
     "iopub.status.busy": "2023-03-26T19:12:35.749091Z",
     "iopub.status.idle": "2023-03-26T19:12:35.779072Z",
     "shell.execute_reply": "2023-03-26T19:12:35.777851Z"
    },
    "papermill": {
     "duration": 0.041727,
     "end_time": "2023-03-26T19:12:35.782019",
     "exception": false,
     "start_time": "2023-03-26T19:12:35.740292",
     "status": "completed"
    },
    "tags": []
   },
   "outputs": [
    {
     "data": {
      "text/plain": [
       "[<polars.internals.expr.expr.Expr at 0x7f9aa5489a10>,\n",
       " <polars.internals.expr.expr.Expr at 0x7f9b176866d0>,\n",
       " <polars.internals.expr.expr.Expr at 0x7f9b24a288d0>,\n",
       " <polars.internals.expr.expr.Expr at 0x7f9b24a28690>,\n",
       " <polars.internals.expr.expr.Expr at 0x7f9aa5489a50>,\n",
       " <polars.internals.expr.expr.Expr at 0x7f9aa5489b50>]"
      ]
     },
     "execution_count": 4,
     "metadata": {},
     "output_type": "execute_result"
    }
   ],
   "source": [
    "columns = [\n",
    "\n",
    "    pl.col(\"page\").cast(pl.Float32),\n",
    "    (\n",
    "        (pl.col(\"elapsed_time\") - pl.col(\"elapsed_time\").shift(1)) \n",
    "         .fill_null(0)\n",
    "         .clip(0, 1e9)\n",
    "         .over([\"session_id\", \"level_group\"])\n",
    "         .alias(\"elapsed_time_diff\")\n",
    "    ),\n",
    "    (\n",
    "        (pl.col(\"screen_coor_x\") - pl.col(\"screen_coor_x\").shift(1)) \n",
    "         .abs()\n",
    "         .over([\"session_id\", \"level_group\"])\n",
    "        .alias(\"location_x_diff\") \n",
    "    ),\n",
    "    (\n",
    "        (pl.col(\"screen_coor_y\") - pl.col(\"screen_coor_y\").shift(1)) \n",
    "         .abs()\n",
    "         .over([\"session_id\", \"level_group\"])\n",
    "        .alias(\"location_y_diff\") \n",
    "    ),\n",
    "    pl.col(\"fqid\").fill_null(\"fqid_None\"),\n",
    "    pl.col(\"text_fqid\").fill_null(\"text_fqid_None\")\n",
    "]\n",
    "columns"
   ]
  },
  {
   "cell_type": "code",
   "execution_count": 5,
   "id": "d892f5ad",
   "metadata": {
    "execution": {
     "iopub.execute_input": "2023-03-26T19:12:35.799537Z",
     "iopub.status.busy": "2023-03-26T19:12:35.799130Z",
     "iopub.status.idle": "2023-03-26T19:12:35.852827Z",
     "shell.execute_reply": "2023-03-26T19:12:35.851693Z"
    },
    "papermill": {
     "duration": 0.065746,
     "end_time": "2023-03-26T19:12:35.855608",
     "exception": false,
     "start_time": "2023-03-26T19:12:35.789862",
     "status": "completed"
    },
    "tags": []
   },
   "outputs": [],
   "source": [
    "def feature_engineer_pl(x, grp, use_extra, feature_suffix):\n",
    "        \n",
    "    aggs = [\n",
    "        pl.col(\"index\").count().alias(f\"session_number_{feature_suffix}\"),\n",
    "      \n",
    "        *[pl.col(c).drop_nulls().n_unique().alias(f\"{c}_unique_{feature_suffix}\") for c in CATS],\n",
    "        [pl.col(c).quantile(0.1, \"nearest\").alias(f\"{c}_quantile1_{feature_suffix}\") for c in NUMS],\n",
    "        *[pl.col(c).quantile(0.2, \"nearest\").alias(f\"{c}_quantile2_{feature_suffix}\") for c in NUMS],\n",
    "        *[pl.col(c).quantile(0.4, \"nearest\").alias(f\"{c}_quantile4_{feature_suffix}\") for c in NUMS],\n",
    "        *[pl.col(c).quantile(0.6, \"nearest\").alias(f\"{c}_quantile6_{feature_suffix}\") for c in NUMS],\n",
    "        *[pl.col(c).quantile(0.8, \"nearest\").alias(f\"{c}_quantile8_{feature_suffix}\") for c in NUMS],\n",
    "        *[pl.col(c).quantile(0.9, \"nearest\").alias(f\"{c}_quantile9_{feature_suffix}\") for c in NUMS],\n",
    "        \n",
    "        *[pl.col(c).mean().alias(f\"{c}_mean_{feature_suffix}\") for c in NUMS],\n",
    "        *[pl.col(c).std().alias(f\"{c}_std_{feature_suffix}\") for c in NUMS],\n",
    "        *[pl.col(c).min().alias(f\"{c}_min_{feature_suffix}\") for c in NUMS],\n",
    "        *[pl.col(c).max().alias(f\"{c}_max_{feature_suffix}\") for c in NUMS],\n",
    "        \n",
    "        *[pl.col(\"event_name\").filter(pl.col(\"event_name\") == c).count().alias(f\"{c}_event_name_counts{feature_suffix}\")for c in event_name_feature],\n",
    "        *[pl.col(\"elapsed_time_diff\").filter(pl.col(\"event_name\")==c).quantile(0.1, \"nearest\").alias(f\"{c}_ET_quantile1_{feature_suffix}\") for c in event_name_feature],\n",
    "        *[pl.col(\"elapsed_time_diff\").filter(pl.col(\"event_name\")==c).quantile(0.2, \"nearest\").alias(f\"{c}_ET_quantile2_{feature_suffix}\") for c in event_name_feature],\n",
    "        *[pl.col(\"elapsed_time_diff\").filter(pl.col(\"event_name\")==c).quantile(0.4, \"nearest\").alias(f\"{c}_ET_quantile4_{feature_suffix}\") for c in event_name_feature],\n",
    "        *[pl.col(\"elapsed_time_diff\").filter(pl.col(\"event_name\")==c).quantile(0.6, \"nearest\").alias(f\"{c}_ET_quantile6_{feature_suffix}\") for c in event_name_feature],\n",
    "        *[pl.col(\"elapsed_time_diff\").filter(pl.col(\"event_name\")==c).quantile(0.8, \"nearest\").alias(f\"{c}_ET_quantile8_{feature_suffix}\") for c in event_name_feature],\n",
    "        *[pl.col(\"elapsed_time_diff\").filter(pl.col(\"event_name\")==c).quantile(0.9, \"nearest\").alias(f\"{c}_ET_quantile9_{feature_suffix}\") for c in event_name_feature],      \n",
    "        *[pl.col(\"elapsed_time_diff\").filter(pl.col(\"event_name\")==c).mean().alias(f\"{c}_ET_mean_{feature_suffix}\") for c in event_name_feature],\n",
    "        *[pl.col(\"elapsed_time_diff\").filter(pl.col(\"event_name\")==c).std().alias(f\"{c}_ET_std_{feature_suffix}\") for c in event_name_feature],\n",
    "        *[pl.col(\"elapsed_time_diff\").filter(pl.col(\"event_name\")==c).max().alias(f\"{c}_ET_max_{feature_suffix}\") for c in event_name_feature],\n",
    "        *[pl.col(\"elapsed_time_diff\").filter(pl.col(\"event_name\")==c).min().alias(f\"{c}_ET_min_{feature_suffix}\") for c in event_name_feature],\n",
    "     \n",
    "        *[pl.col(\"name\").filter(pl.col(\"name\") == c).count().alias(f\"{c}_name_counts{feature_suffix}\")for c in name_feature],   \n",
    "        *[pl.col(\"elapsed_time_diff\").filter(pl.col(\"name\")==c).mean().alias(f\"{c}_ET_mean_{feature_suffix}\") for c in name_feature],\n",
    "        *[pl.col(\"elapsed_time_diff\").filter(pl.col(\"name\")==c).max().alias(f\"{c}_ET_max_{feature_suffix}\") for c in name_feature],\n",
    "        *[pl.col(\"elapsed_time_diff\").filter(pl.col(\"name\")==c).min().alias(f\"{c}_ET_min_{feature_suffix}\") for c in name_feature],\n",
    "        *[pl.col(\"elapsed_time_diff\").filter(pl.col(\"name\")==c).std().alias(f\"{c}_ET_std_{feature_suffix}\") for c in name_feature],  \n",
    "        \n",
    "        *[pl.col(\"room_fqid\").filter(pl.col(\"room_fqid\") == c).count().alias(f\"{c}_room_fqid_counts{feature_suffix}\")for c in room_lists],\n",
    "        *[pl.col(\"elapsed_time_diff\").filter(pl.col(\"room_fqid\") == c).std().alias(f\"{c}_ET_std_{feature_suffix}\") for c in room_lists],\n",
    "        *[pl.col(\"elapsed_time_diff\").filter(pl.col(\"room_fqid\") == c).mean().alias(f\"{c}_ET_mean_{feature_suffix}\") for c in room_lists],\n",
    "        *[pl.col(\"elapsed_time_diff\").filter(pl.col(\"room_fqid\") == c).max().alias(f\"{c}_ET_max_{feature_suffix}\") for c in room_lists],\n",
    "        *[pl.col(\"elapsed_time_diff\").filter(pl.col(\"room_fqid\") == c).min().alias(f\"{c}_ET_min_{feature_suffix}\") for c in room_lists],\n",
    "        *[pl.col(\"elapsed_time_diff\").filter(pl.col(\"room_fqid\") == c).sum().alias(f\"{c}_ET_sum_{feature_suffix}\") for c in room_lists],\n",
    "                \n",
    "        *[pl.col(\"fqid\").filter(pl.col(\"fqid\") == c).count().alias(f\"{c}_fqid_counts{feature_suffix}\")for c in fqid_lists],\n",
    "        *[pl.col(\"elapsed_time_diff\").filter(pl.col(\"fqid\") == c).std().alias(f\"{c}_ET_std_{feature_suffix}\") for c in fqid_lists],\n",
    "        *[pl.col(\"elapsed_time_diff\").filter(pl.col(\"fqid\") == c).mean().alias(f\"{c}_ET_mean_{feature_suffix}\") for c in fqid_lists],\n",
    "        *[pl.col(\"elapsed_time_diff\").filter(pl.col(\"fqid\") == c).max().alias(f\"{c}_ET_max_{feature_suffix}\") for c in fqid_lists],\n",
    "        *[pl.col(\"elapsed_time_diff\").filter(pl.col(\"fqid\") == c).min().alias(f\"{c}_ET_min_{feature_suffix}\") for c in fqid_lists],\n",
    "        *[pl.col(\"elapsed_time_diff\").filter(pl.col(\"fqid\") == c).sum().alias(f\"{c}_ET_sum_{feature_suffix}\") for c in fqid_lists],\n",
    "       \n",
    "        *[pl.col(\"text_fqid\").filter(pl.col(\"text_fqid\") == c).count().alias(f\"{c}_text_fqid_counts{feature_suffix}\") for c in text_lists],\n",
    "        *[pl.col(\"elapsed_time_diff\").filter(pl.col(\"text_fqid\") == c).std().alias(f\"{c}_ET_std_{feature_suffix}\") for c in text_lists],\n",
    "        *[pl.col(\"elapsed_time_diff\").filter(pl.col(\"text_fqid\") == c).mean().alias(f\"{c}_ET_mean_{feature_suffix}\") for c in text_lists],\n",
    "        *[pl.col(\"elapsed_time_diff\").filter(pl.col(\"text_fqid\") == c).max().alias(f\"{c}_ET_max_{feature_suffix}\") for c in text_lists],\n",
    "        *[pl.col(\"elapsed_time_diff\").filter(pl.col(\"text_fqid\") == c).min().alias(f\"{c}_ET_min_{feature_suffix}\") for c in text_lists],\n",
    "        *[pl.col(\"elapsed_time_diff\").filter(pl.col(\"text_fqid\") == c).sum().alias(f\"{c}_ET_sum_{feature_suffix}\") for c in text_lists],\n",
    "         \n",
    "        *[pl.col(\"location_x_diff\").filter(pl.col(\"event_name\")==c).mean().alias(f\"{c}_ET_mean_x{feature_suffix}\") for c in event_name_feature],\n",
    "        *[pl.col(\"location_x_diff\").filter(pl.col(\"event_name\")==c).std().alias(f\"{c}_ET_std_x{feature_suffix}\") for c in event_name_feature],\n",
    "        *[pl.col(\"location_x_diff\").filter(pl.col(\"event_name\")==c).max().alias(f\"{c}_ET_max_x{feature_suffix}\") for c in event_name_feature],\n",
    "        *[pl.col(\"location_x_diff\").filter(pl.col(\"event_name\")==c).min().alias(f\"{c}_ET_min_x{feature_suffix}\") for c in event_name_feature],\n",
    "        ]\n",
    "    \n",
    "    df = x.groupby([\"session_id\"], maintain_order=True).agg(aggs).sort(\"session_id\")\n",
    "  \n",
    "    if use_extra:\n",
    "        if grp=='5-12':\n",
    "            aggs = [\n",
    "                pl.col(\"elapsed_time\").filter((pl.col(\"text\")==\"Here's the log book.\")|(pl.col(\"fqid\")=='logbook.page.bingo')).apply(lambda s: s.max()-s.min()).alias(\"logbook_bingo_duration\"),\n",
    "                pl.col(\"index\").filter((pl.col(\"text\")==\"Here's the log book.\")|(pl.col(\"fqid\")=='logbook.page.bingo')).apply(lambda s: s.max()-s.min()).alias(\"logbook_bingo_indexCount\"),\n",
    "                pl.col(\"elapsed_time\").filter(((pl.col(\"event_name\")=='navigate_click')&(pl.col(\"fqid\")=='reader'))|(pl.col(\"fqid\")==\"reader.paper2.bingo\")).apply(lambda s: s.max()-s.min()).alias(\"reader_bingo_duration\"),\n",
    "                pl.col(\"index\").filter(((pl.col(\"event_name\")=='navigate_click')&(pl.col(\"fqid\")=='reader'))|(pl.col(\"fqid\")==\"reader.paper2.bingo\")).apply(lambda s: s.max()-s.min()).alias(\"reader_bingo_indexCount\"),\n",
    "                pl.col(\"elapsed_time\").filter(((pl.col(\"event_name\")=='navigate_click')&(pl.col(\"fqid\")=='journals'))|(pl.col(\"fqid\")==\"journals.pic_2.bingo\")).apply(lambda s: s.max()-s.min()).alias(\"journals_bingo_duration\"),\n",
    "                pl.col(\"index\").filter(((pl.col(\"event_name\")=='navigate_click')&(pl.col(\"fqid\")=='journals'))|(pl.col(\"fqid\")==\"journals.pic_2.bingo\")).apply(lambda s: s.max()-s.min()).alias(\"journals_bingo_indexCount\"),\n",
    "            ]\n",
    "            tmp = x.groupby([\"session_id\"], maintain_order=True).agg(aggs).sort(\"session_id\")\n",
    "            df = df.join(tmp, on=\"session_id\", how='left')\n",
    "\n",
    "        if grp=='13-22':\n",
    "            aggs = [\n",
    "                pl.col(\"elapsed_time\").filter(((pl.col(\"event_name\")=='navigate_click')&(pl.col(\"fqid\")=='reader_flag'))|(pl.col(\"fqid\")==\"tunic.library.microfiche.reader_flag.paper2.bingo\")).apply(lambda s: s.max()-s.min() if s.len()>0 else 0).alias(\"reader_flag_duration\"),\n",
    "                pl.col(\"index\").filter(((pl.col(\"event_name\")=='navigate_click')&(pl.col(\"fqid\")=='reader_flag'))|(pl.col(\"fqid\")==\"tunic.library.microfiche.reader_flag.paper2.bingo\")).apply(lambda s: s.max()-s.min() if s.len()>0 else 0).alias(\"reader_flag_indexCount\"),\n",
    "                pl.col(\"elapsed_time\").filter(((pl.col(\"event_name\")=='navigate_click')&(pl.col(\"fqid\")=='journals_flag'))|(pl.col(\"fqid\")==\"journals_flag.pic_0.bingo\")).apply(lambda s: s.max()-s.min() if s.len()>0 else 0).alias(\"journalsFlag_bingo_duration\"),\n",
    "                pl.col(\"index\").filter(((pl.col(\"event_name\")=='navigate_click')&(pl.col(\"fqid\")=='journals_flag'))|(pl.col(\"fqid\")==\"journals_flag.pic_0.bingo\")).apply(lambda s: s.max()-s.min() if s.len()>0 else 0).alias(\"journalsFlag_bingo_indexCount\"),\n",
    "            ]\n",
    "            tmp = x.groupby([\"session_id\"], maintain_order=True).agg(aggs).sort(\"session_id\")\n",
    "            df = df.join(tmp, on=\"session_id\", how='left')\n",
    "        \n",
    "    return df.to_pandas()"
   ]
  },
  {
   "cell_type": "code",
   "execution_count": 6,
   "id": "76603c0b",
   "metadata": {
    "execution": {
     "iopub.execute_input": "2023-03-26T19:12:35.873416Z",
     "iopub.status.busy": "2023-03-26T19:12:35.872999Z",
     "iopub.status.idle": "2023-03-26T19:12:54.496796Z",
     "shell.execute_reply": "2023-03-26T19:12:54.495218Z"
    },
    "papermill": {
     "duration": 18.637358,
     "end_time": "2023-03-26T19:12:54.500893",
     "exception": false,
     "start_time": "2023-03-26T19:12:35.863535",
     "status": "completed"
    },
    "tags": []
   },
   "outputs": [
    {
     "name": "stdout",
     "output_type": "stream",
     "text": [
      "CPU times: user 23.1 s, sys: 14.3 s, total: 37.3 s\n",
      "Wall time: 18.6 s\n"
     ]
    }
   ],
   "source": [
    "%%time\n",
    "\n",
    "# we prepare the dataset for the training by level :\n",
    "df = (pl.read_parquet(\"/kaggle/input/how-to-get-32gb-ram/train.parquet\")\n",
    "      .drop([\"fullscreen\", \"hq\", \"music\"])\n",
    "      .with_columns(columns))"
   ]
  },
  {
   "cell_type": "code",
   "execution_count": 7,
   "id": "f6e24ef1",
   "metadata": {
    "execution": {
     "iopub.execute_input": "2023-03-26T19:12:54.518889Z",
     "iopub.status.busy": "2023-03-26T19:12:54.518459Z",
     "iopub.status.idle": "2023-03-26T19:12:55.641271Z",
     "shell.execute_reply": "2023-03-26T19:12:55.640137Z"
    },
    "papermill": {
     "duration": 1.134967,
     "end_time": "2023-03-26T19:12:55.644243",
     "exception": false,
     "start_time": "2023-03-26T19:12:54.509276",
     "status": "completed"
    },
    "tags": []
   },
   "outputs": [],
   "source": [
    "df1 = df.filter(pl.col(\"level_group\")=='0-4')"
   ]
  },
  {
   "cell_type": "code",
   "execution_count": 8,
   "id": "cbbe539e",
   "metadata": {
    "execution": {
     "iopub.execute_input": "2023-03-26T19:12:55.663054Z",
     "iopub.status.busy": "2023-03-26T19:12:55.662535Z",
     "iopub.status.idle": "2023-03-26T19:12:58.225374Z",
     "shell.execute_reply": "2023-03-26T19:12:58.223977Z"
    },
    "papermill": {
     "duration": 2.575053,
     "end_time": "2023-03-26T19:12:58.228343",
     "exception": false,
     "start_time": "2023-03-26T19:12:55.653290",
     "status": "completed"
    },
    "tags": []
   },
   "outputs": [],
   "source": [
    "df2 = df.filter(pl.col(\"level_group\")=='5-12')"
   ]
  },
  {
   "cell_type": "code",
   "execution_count": 9,
   "id": "e13c8179",
   "metadata": {
    "execution": {
     "iopub.execute_input": "2023-03-26T19:12:58.246572Z",
     "iopub.status.busy": "2023-03-26T19:12:58.245811Z",
     "iopub.status.idle": "2023-03-26T19:13:02.326275Z",
     "shell.execute_reply": "2023-03-26T19:13:02.324605Z"
    },
    "papermill": {
     "duration": 4.093143,
     "end_time": "2023-03-26T19:13:02.329444",
     "exception": false,
     "start_time": "2023-03-26T19:12:58.236301",
     "status": "completed"
    },
    "tags": []
   },
   "outputs": [],
   "source": [
    "df3 = df.filter(pl.col(\"level_group\")=='13-22')"
   ]
  },
  {
   "cell_type": "code",
   "execution_count": 10,
   "id": "4a14f5e6",
   "metadata": {
    "execution": {
     "iopub.execute_input": "2023-03-26T19:13:02.347997Z",
     "iopub.status.busy": "2023-03-26T19:13:02.347313Z",
     "iopub.status.idle": "2023-03-26T19:13:03.048292Z",
     "shell.execute_reply": "2023-03-26T19:13:03.047185Z"
    },
    "papermill": {
     "duration": 0.71294,
     "end_time": "2023-03-26T19:13:03.050817",
     "exception": false,
     "start_time": "2023-03-26T19:13:02.337877",
     "status": "completed"
    },
    "tags": []
   },
   "outputs": [
    {
     "data": {
      "text/plain": [
       "139"
      ]
     },
     "execution_count": 10,
     "metadata": {},
     "output_type": "execute_result"
    }
   ],
   "source": [
    "del df\n",
    "gc.collect()"
   ]
  },
  {
   "cell_type": "code",
   "execution_count": 11,
   "id": "cfccda65",
   "metadata": {
    "execution": {
     "iopub.execute_input": "2023-03-26T19:13:03.069187Z",
     "iopub.status.busy": "2023-03-26T19:13:03.068170Z",
     "iopub.status.idle": "2023-03-26T19:15:00.884328Z",
     "shell.execute_reply": "2023-03-26T19:15:00.882766Z"
    },
    "papermill": {
     "duration": 117.836909,
     "end_time": "2023-03-26T19:15:00.895701",
     "exception": false,
     "start_time": "2023-03-26T19:13:03.058792",
     "status": "completed"
    },
    "tags": []
   },
   "outputs": [
    {
     "name": "stdout",
     "output_type": "stream",
     "text": [
      "df3 done (23562, 1902)\n"
     ]
    }
   ],
   "source": [
    "df1 = feature_engineer_pl(df1, grp='0-4', use_extra=True, feature_suffix='')\n",
    "df2 = feature_engineer_pl(df2, grp='5-12', use_extra=True, feature_suffix='')\n",
    "df3 = feature_engineer_pl(df3, grp='13-22', use_extra=True, feature_suffix='')\n",
    "print('df3 done',df3.shape)"
   ]
  },
  {
   "cell_type": "code",
   "execution_count": 12,
   "id": "b47b7964",
   "metadata": {
    "execution": {
     "iopub.execute_input": "2023-03-26T19:15:00.915409Z",
     "iopub.status.busy": "2023-03-26T19:15:00.914606Z",
     "iopub.status.idle": "2023-03-26T19:15:01.219301Z",
     "shell.execute_reply": "2023-03-26T19:15:01.217730Z"
    },
    "papermill": {
     "duration": 0.317942,
     "end_time": "2023-03-26T19:15:01.222604",
     "exception": false,
     "start_time": "2023-03-26T19:15:00.904662",
     "status": "completed"
    },
    "tags": []
   },
   "outputs": [],
   "source": [
    "null1 = df1.isnull().sum().sort_values(ascending=False) / len(df1)\n",
    "null2 = df2.isnull().sum().sort_values(ascending=False) / len(df1)\n",
    "null3 = df3.isnull().sum().sort_values(ascending=False) / len(df1)"
   ]
  },
  {
   "cell_type": "code",
   "execution_count": 13,
   "id": "57cccf8a",
   "metadata": {
    "execution": {
     "iopub.execute_input": "2023-03-26T19:15:01.240956Z",
     "iopub.status.busy": "2023-03-26T19:15:01.240509Z",
     "iopub.status.idle": "2023-03-26T19:15:01.250850Z",
     "shell.execute_reply": "2023-03-26T19:15:01.249378Z"
    },
    "papermill": {
     "duration": 0.022315,
     "end_time": "2023-03-26T19:15:01.253324",
     "exception": false,
     "start_time": "2023-03-26T19:15:01.231009",
     "status": "completed"
    },
    "tags": []
   },
   "outputs": [
    {
     "name": "stdout",
     "output_type": "stream",
     "text": [
      "1088 835 726\n"
     ]
    }
   ],
   "source": [
    "drop1 = list(null1[null1>0.9].index)\n",
    "drop2 = list(null2[null2>0.9].index)\n",
    "drop3 = list(null3[null3>0.9].index)\n",
    "print(len(drop1), len(drop2), len(drop3))"
   ]
  },
  {
   "cell_type": "code",
   "execution_count": 14,
   "id": "107191d6",
   "metadata": {
    "execution": {
     "iopub.execute_input": "2023-03-26T19:15:01.271925Z",
     "iopub.status.busy": "2023-03-26T19:15:01.271213Z",
     "iopub.status.idle": "2023-03-26T19:15:03.751548Z",
     "shell.execute_reply": "2023-03-26T19:15:03.750051Z"
    },
    "papermill": {
     "duration": 2.492833,
     "end_time": "2023-03-26T19:15:03.754342",
     "exception": false,
     "start_time": "2023-03-26T19:15:01.261509",
     "status": "completed"
    },
    "tags": []
   },
   "outputs": [
    {
     "name": "stdout",
     "output_type": "stream",
     "text": [
      "*********df1 DONE*********\n",
      "*********df2 DONE*********\n",
      "*********df3 DONE*********\n"
     ]
    }
   ],
   "source": [
    "for col in df1.columns:\n",
    "    if df1[col].nunique()==1:\n",
    "        drop1.append(col)\n",
    "print(\"*********df1 DONE*********\")\n",
    "for col in df2.columns:\n",
    "    if df2[col].nunique()==1:\n",
    "        drop2.append(col)\n",
    "print(\"*********df2 DONE*********\")\n",
    "for col in df3.columns:\n",
    "    if df3[col].nunique()==1:\n",
    "        drop3.append(col)\n",
    "print(\"*********df3 DONE*********\")"
   ]
  },
  {
   "cell_type": "code",
   "execution_count": 15,
   "id": "dafb36da",
   "metadata": {
    "execution": {
     "iopub.execute_input": "2023-03-26T19:15:03.773487Z",
     "iopub.status.busy": "2023-03-26T19:15:03.773067Z",
     "iopub.status.idle": "2023-03-26T19:15:04.309809Z",
     "shell.execute_reply": "2023-03-26T19:15:04.307500Z"
    },
    "papermill": {
     "duration": 0.551198,
     "end_time": "2023-03-26T19:15:04.314215",
     "exception": false,
     "start_time": "2023-03-26T19:15:03.763017",
     "status": "completed"
    },
    "tags": []
   },
   "outputs": [
    {
     "name": "stdout",
     "output_type": "stream",
     "text": [
      "We will train with 599 915 1063 features\n",
      "We will train with 23562 users info\n"
     ]
    }
   ],
   "source": [
    "df1 = df1.set_index('session_id')\n",
    "df2 = df2.set_index('session_id')\n",
    "df3 = df3.set_index('session_id')\n",
    "\n",
    "FEATURES1 = [c for c in df1.columns if c not in drop1+['level_group']]\n",
    "FEATURES2 = [c for c in df2.columns if c not in drop2+['level_group']]\n",
    "FEATURES3 = [c for c in df3.columns if c not in drop3+['level_group']]\n",
    "print('We will train with', len(FEATURES1), len(FEATURES2), len(FEATURES3) ,'features')\n",
    "ALL_USERS = df1.index.unique()\n",
    "print('We will train with', len(ALL_USERS) ,'users info')"
   ]
  },
  {
   "cell_type": "code",
   "execution_count": 16,
   "id": "b81a148b",
   "metadata": {
    "execution": {
     "iopub.execute_input": "2023-03-26T19:15:04.335069Z",
     "iopub.status.busy": "2023-03-26T19:15:04.333902Z",
     "iopub.status.idle": "2023-03-26T19:15:04.666941Z",
     "shell.execute_reply": "2023-03-26T19:15:04.665415Z"
    },
    "papermill": {
     "duration": 0.346676,
     "end_time": "2023-03-26T19:15:04.669995",
     "exception": false,
     "start_time": "2023-03-26T19:15:04.323319",
     "status": "completed"
    },
    "tags": []
   },
   "outputs": [
    {
     "data": {
      "text/html": [
       "<div>\n",
       "<style scoped>\n",
       "    .dataframe tbody tr th:only-of-type {\n",
       "        vertical-align: middle;\n",
       "    }\n",
       "\n",
       "    .dataframe tbody tr th {\n",
       "        vertical-align: top;\n",
       "    }\n",
       "\n",
       "    .dataframe thead th {\n",
       "        text-align: right;\n",
       "    }\n",
       "</style>\n",
       "<table border=\"1\" class=\"dataframe\">\n",
       "  <thead>\n",
       "    <tr style=\"text-align: right;\">\n",
       "      <th></th>\n",
       "      <th>session_number_</th>\n",
       "      <th>event_name_unique_</th>\n",
       "      <th>name_unique_</th>\n",
       "      <th>fqid_unique_</th>\n",
       "      <th>room_fqid_unique_</th>\n",
       "      <th>text_fqid_unique_</th>\n",
       "      <th>page_quantile2_</th>\n",
       "      <th>room_coor_x_quantile2_</th>\n",
       "      <th>room_coor_y_quantile2_</th>\n",
       "      <th>screen_coor_x_quantile2_</th>\n",
       "      <th>...</th>\n",
       "      <th>map_click_ET_max_x</th>\n",
       "      <th>notebook_click_ET_max_x</th>\n",
       "      <th>cutscene_click_ET_min_x</th>\n",
       "      <th>person_click_ET_min_x</th>\n",
       "      <th>navigate_click_ET_min_x</th>\n",
       "      <th>observation_click_ET_min_x</th>\n",
       "      <th>notification_click_ET_min_x</th>\n",
       "      <th>object_click_ET_min_x</th>\n",
       "      <th>map_click_ET_min_x</th>\n",
       "      <th>notebook_click_ET_min_x</th>\n",
       "    </tr>\n",
       "    <tr>\n",
       "      <th>session_id</th>\n",
       "      <th></th>\n",
       "      <th></th>\n",
       "      <th></th>\n",
       "      <th></th>\n",
       "      <th></th>\n",
       "      <th></th>\n",
       "      <th></th>\n",
       "      <th></th>\n",
       "      <th></th>\n",
       "      <th></th>\n",
       "      <th></th>\n",
       "      <th></th>\n",
       "      <th></th>\n",
       "      <th></th>\n",
       "      <th></th>\n",
       "      <th></th>\n",
       "      <th></th>\n",
       "      <th></th>\n",
       "      <th></th>\n",
       "      <th></th>\n",
       "      <th></th>\n",
       "    </tr>\n",
       "  </thead>\n",
       "  <tbody>\n",
       "    <tr>\n",
       "      <th>20090312431273200</th>\n",
       "      <td>165</td>\n",
       "      <td>10</td>\n",
       "      <td>3</td>\n",
       "      <td>31</td>\n",
       "      <td>7</td>\n",
       "      <td>18</td>\n",
       "      <td>NaN</td>\n",
       "      <td>-385.096230</td>\n",
       "      <td>-169.492774</td>\n",
       "      <td>263.0</td>\n",
       "      <td>...</td>\n",
       "      <td>NaN</td>\n",
       "      <td>NaN</td>\n",
       "      <td>0.0</td>\n",
       "      <td>0.0</td>\n",
       "      <td>0.0</td>\n",
       "      <td>0.0</td>\n",
       "      <td>0.0</td>\n",
       "      <td>0.0</td>\n",
       "      <td>NaN</td>\n",
       "      <td>NaN</td>\n",
       "    </tr>\n",
       "    <tr>\n",
       "      <th>20090312433251036</th>\n",
       "      <td>139</td>\n",
       "      <td>11</td>\n",
       "      <td>4</td>\n",
       "      <td>23</td>\n",
       "      <td>6</td>\n",
       "      <td>12</td>\n",
       "      <td>0.0</td>\n",
       "      <td>-394.991405</td>\n",
       "      <td>-173.583708</td>\n",
       "      <td>128.0</td>\n",
       "      <td>...</td>\n",
       "      <td>286.0</td>\n",
       "      <td>759.0</td>\n",
       "      <td>0.0</td>\n",
       "      <td>0.0</td>\n",
       "      <td>0.0</td>\n",
       "      <td>21.0</td>\n",
       "      <td>37.0</td>\n",
       "      <td>0.0</td>\n",
       "      <td>159.0</td>\n",
       "      <td>22.0</td>\n",
       "    </tr>\n",
       "    <tr>\n",
       "      <th>20090312455206810</th>\n",
       "      <td>149</td>\n",
       "      <td>9</td>\n",
       "      <td>3</td>\n",
       "      <td>23</td>\n",
       "      <td>6</td>\n",
       "      <td>13</td>\n",
       "      <td>NaN</td>\n",
       "      <td>-538.784380</td>\n",
       "      <td>-183.048020</td>\n",
       "      <td>28.0</td>\n",
       "      <td>...</td>\n",
       "      <td>NaN</td>\n",
       "      <td>NaN</td>\n",
       "      <td>0.0</td>\n",
       "      <td>0.0</td>\n",
       "      <td>0.0</td>\n",
       "      <td>NaN</td>\n",
       "      <td>0.0</td>\n",
       "      <td>0.0</td>\n",
       "      <td>NaN</td>\n",
       "      <td>NaN</td>\n",
       "    </tr>\n",
       "    <tr>\n",
       "      <th>20090313091715820</th>\n",
       "      <td>176</td>\n",
       "      <td>11</td>\n",
       "      <td>4</td>\n",
       "      <td>25</td>\n",
       "      <td>6</td>\n",
       "      <td>15</td>\n",
       "      <td>0.0</td>\n",
       "      <td>-521.218916</td>\n",
       "      <td>-213.283663</td>\n",
       "      <td>91.0</td>\n",
       "      <td>...</td>\n",
       "      <td>NaN</td>\n",
       "      <td>936.0</td>\n",
       "      <td>0.0</td>\n",
       "      <td>0.0</td>\n",
       "      <td>0.0</td>\n",
       "      <td>218.0</td>\n",
       "      <td>0.0</td>\n",
       "      <td>0.0</td>\n",
       "      <td>NaN</td>\n",
       "      <td>119.0</td>\n",
       "    </tr>\n",
       "    <tr>\n",
       "      <th>20090313571836404</th>\n",
       "      <td>112</td>\n",
       "      <td>10</td>\n",
       "      <td>4</td>\n",
       "      <td>23</td>\n",
       "      <td>6</td>\n",
       "      <td>13</td>\n",
       "      <td>0.0</td>\n",
       "      <td>-435.991405</td>\n",
       "      <td>-155.009032</td>\n",
       "      <td>213.0</td>\n",
       "      <td>...</td>\n",
       "      <td>466.0</td>\n",
       "      <td>809.0</td>\n",
       "      <td>0.0</td>\n",
       "      <td>0.0</td>\n",
       "      <td>0.0</td>\n",
       "      <td>NaN</td>\n",
       "      <td>77.0</td>\n",
       "      <td>39.0</td>\n",
       "      <td>0.0</td>\n",
       "      <td>41.0</td>\n",
       "    </tr>\n",
       "    <tr>\n",
       "      <th>...</th>\n",
       "      <td>...</td>\n",
       "      <td>...</td>\n",
       "      <td>...</td>\n",
       "      <td>...</td>\n",
       "      <td>...</td>\n",
       "      <td>...</td>\n",
       "      <td>...</td>\n",
       "      <td>...</td>\n",
       "      <td>...</td>\n",
       "      <td>...</td>\n",
       "      <td>...</td>\n",
       "      <td>...</td>\n",
       "      <td>...</td>\n",
       "      <td>...</td>\n",
       "      <td>...</td>\n",
       "      <td>...</td>\n",
       "      <td>...</td>\n",
       "      <td>...</td>\n",
       "      <td>...</td>\n",
       "      <td>...</td>\n",
       "      <td>...</td>\n",
       "    </tr>\n",
       "    <tr>\n",
       "      <th>22100215342220508</th>\n",
       "      <td>150</td>\n",
       "      <td>11</td>\n",
       "      <td>4</td>\n",
       "      <td>29</td>\n",
       "      <td>7</td>\n",
       "      <td>19</td>\n",
       "      <td>0.0</td>\n",
       "      <td>-397.991405</td>\n",
       "      <td>-172.748733</td>\n",
       "      <td>249.0</td>\n",
       "      <td>...</td>\n",
       "      <td>NaN</td>\n",
       "      <td>755.0</td>\n",
       "      <td>0.0</td>\n",
       "      <td>0.0</td>\n",
       "      <td>0.0</td>\n",
       "      <td>36.0</td>\n",
       "      <td>0.0</td>\n",
       "      <td>0.0</td>\n",
       "      <td>NaN</td>\n",
       "      <td>8.0</td>\n",
       "    </tr>\n",
       "    <tr>\n",
       "      <th>22100215460321130</th>\n",
       "      <td>149</td>\n",
       "      <td>11</td>\n",
       "      <td>4</td>\n",
       "      <td>26</td>\n",
       "      <td>7</td>\n",
       "      <td>17</td>\n",
       "      <td>0.0</td>\n",
       "      <td>-360.235006</td>\n",
       "      <td>-178.859526</td>\n",
       "      <td>345.0</td>\n",
       "      <td>...</td>\n",
       "      <td>NaN</td>\n",
       "      <td>870.0</td>\n",
       "      <td>0.0</td>\n",
       "      <td>0.0</td>\n",
       "      <td>0.0</td>\n",
       "      <td>147.0</td>\n",
       "      <td>0.0</td>\n",
       "      <td>0.0</td>\n",
       "      <td>NaN</td>\n",
       "      <td>11.0</td>\n",
       "    </tr>\n",
       "    <tr>\n",
       "      <th>22100217104993650</th>\n",
       "      <td>197</td>\n",
       "      <td>10</td>\n",
       "      <td>4</td>\n",
       "      <td>28</td>\n",
       "      <td>7</td>\n",
       "      <td>17</td>\n",
       "      <td>0.0</td>\n",
       "      <td>-336.991405</td>\n",
       "      <td>-208.687576</td>\n",
       "      <td>228.0</td>\n",
       "      <td>...</td>\n",
       "      <td>539.0</td>\n",
       "      <td>428.0</td>\n",
       "      <td>0.0</td>\n",
       "      <td>0.0</td>\n",
       "      <td>0.0</td>\n",
       "      <td>5.0</td>\n",
       "      <td>0.0</td>\n",
       "      <td>17.0</td>\n",
       "      <td>417.0</td>\n",
       "      <td>60.0</td>\n",
       "    </tr>\n",
       "    <tr>\n",
       "      <th>22100219442786200</th>\n",
       "      <td>167</td>\n",
       "      <td>11</td>\n",
       "      <td>4</td>\n",
       "      <td>23</td>\n",
       "      <td>6</td>\n",
       "      <td>14</td>\n",
       "      <td>0.0</td>\n",
       "      <td>-457.002600</td>\n",
       "      <td>-250.883366</td>\n",
       "      <td>52.0</td>\n",
       "      <td>...</td>\n",
       "      <td>440.0</td>\n",
       "      <td>790.0</td>\n",
       "      <td>0.0</td>\n",
       "      <td>0.0</td>\n",
       "      <td>0.0</td>\n",
       "      <td>221.0</td>\n",
       "      <td>2.0</td>\n",
       "      <td>0.0</td>\n",
       "      <td>60.0</td>\n",
       "      <td>69.0</td>\n",
       "    </tr>\n",
       "    <tr>\n",
       "      <th>22100221145014656</th>\n",
       "      <td>211</td>\n",
       "      <td>11</td>\n",
       "      <td>4</td>\n",
       "      <td>28</td>\n",
       "      <td>7</td>\n",
       "      <td>18</td>\n",
       "      <td>0.0</td>\n",
       "      <td>-325.728671</td>\n",
       "      <td>-161.883220</td>\n",
       "      <td>253.0</td>\n",
       "      <td>...</td>\n",
       "      <td>NaN</td>\n",
       "      <td>785.0</td>\n",
       "      <td>0.0</td>\n",
       "      <td>0.0</td>\n",
       "      <td>0.0</td>\n",
       "      <td>8.0</td>\n",
       "      <td>4.0</td>\n",
       "      <td>0.0</td>\n",
       "      <td>NaN</td>\n",
       "      <td>4.0</td>\n",
       "    </tr>\n",
       "  </tbody>\n",
       "</table>\n",
       "<p>23562 rows × 599 columns</p>\n",
       "</div>"
      ],
      "text/plain": [
       "                   session_number_  event_name_unique_  name_unique_  \\\n",
       "session_id                                                             \n",
       "20090312431273200              165                  10             3   \n",
       "20090312433251036              139                  11             4   \n",
       "20090312455206810              149                   9             3   \n",
       "20090313091715820              176                  11             4   \n",
       "20090313571836404              112                  10             4   \n",
       "...                            ...                 ...           ...   \n",
       "22100215342220508              150                  11             4   \n",
       "22100215460321130              149                  11             4   \n",
       "22100217104993650              197                  10             4   \n",
       "22100219442786200              167                  11             4   \n",
       "22100221145014656              211                  11             4   \n",
       "\n",
       "                   fqid_unique_  room_fqid_unique_  text_fqid_unique_  \\\n",
       "session_id                                                              \n",
       "20090312431273200            31                  7                 18   \n",
       "20090312433251036            23                  6                 12   \n",
       "20090312455206810            23                  6                 13   \n",
       "20090313091715820            25                  6                 15   \n",
       "20090313571836404            23                  6                 13   \n",
       "...                         ...                ...                ...   \n",
       "22100215342220508            29                  7                 19   \n",
       "22100215460321130            26                  7                 17   \n",
       "22100217104993650            28                  7                 17   \n",
       "22100219442786200            23                  6                 14   \n",
       "22100221145014656            28                  7                 18   \n",
       "\n",
       "                   page_quantile2_  room_coor_x_quantile2_  \\\n",
       "session_id                                                   \n",
       "20090312431273200              NaN             -385.096230   \n",
       "20090312433251036              0.0             -394.991405   \n",
       "20090312455206810              NaN             -538.784380   \n",
       "20090313091715820              0.0             -521.218916   \n",
       "20090313571836404              0.0             -435.991405   \n",
       "...                            ...                     ...   \n",
       "22100215342220508              0.0             -397.991405   \n",
       "22100215460321130              0.0             -360.235006   \n",
       "22100217104993650              0.0             -336.991405   \n",
       "22100219442786200              0.0             -457.002600   \n",
       "22100221145014656              0.0             -325.728671   \n",
       "\n",
       "                   room_coor_y_quantile2_  screen_coor_x_quantile2_  ...  \\\n",
       "session_id                                                           ...   \n",
       "20090312431273200             -169.492774                     263.0  ...   \n",
       "20090312433251036             -173.583708                     128.0  ...   \n",
       "20090312455206810             -183.048020                      28.0  ...   \n",
       "20090313091715820             -213.283663                      91.0  ...   \n",
       "20090313571836404             -155.009032                     213.0  ...   \n",
       "...                                   ...                       ...  ...   \n",
       "22100215342220508             -172.748733                     249.0  ...   \n",
       "22100215460321130             -178.859526                     345.0  ...   \n",
       "22100217104993650             -208.687576                     228.0  ...   \n",
       "22100219442786200             -250.883366                      52.0  ...   \n",
       "22100221145014656             -161.883220                     253.0  ...   \n",
       "\n",
       "                   map_click_ET_max_x  notebook_click_ET_max_x  \\\n",
       "session_id                                                       \n",
       "20090312431273200                 NaN                      NaN   \n",
       "20090312433251036               286.0                    759.0   \n",
       "20090312455206810                 NaN                      NaN   \n",
       "20090313091715820                 NaN                    936.0   \n",
       "20090313571836404               466.0                    809.0   \n",
       "...                               ...                      ...   \n",
       "22100215342220508                 NaN                    755.0   \n",
       "22100215460321130                 NaN                    870.0   \n",
       "22100217104993650               539.0                    428.0   \n",
       "22100219442786200               440.0                    790.0   \n",
       "22100221145014656                 NaN                    785.0   \n",
       "\n",
       "                   cutscene_click_ET_min_x  person_click_ET_min_x  \\\n",
       "session_id                                                          \n",
       "20090312431273200                      0.0                    0.0   \n",
       "20090312433251036                      0.0                    0.0   \n",
       "20090312455206810                      0.0                    0.0   \n",
       "20090313091715820                      0.0                    0.0   \n",
       "20090313571836404                      0.0                    0.0   \n",
       "...                                    ...                    ...   \n",
       "22100215342220508                      0.0                    0.0   \n",
       "22100215460321130                      0.0                    0.0   \n",
       "22100217104993650                      0.0                    0.0   \n",
       "22100219442786200                      0.0                    0.0   \n",
       "22100221145014656                      0.0                    0.0   \n",
       "\n",
       "                   navigate_click_ET_min_x  observation_click_ET_min_x  \\\n",
       "session_id                                                               \n",
       "20090312431273200                      0.0                         0.0   \n",
       "20090312433251036                      0.0                        21.0   \n",
       "20090312455206810                      0.0                         NaN   \n",
       "20090313091715820                      0.0                       218.0   \n",
       "20090313571836404                      0.0                         NaN   \n",
       "...                                    ...                         ...   \n",
       "22100215342220508                      0.0                        36.0   \n",
       "22100215460321130                      0.0                       147.0   \n",
       "22100217104993650                      0.0                         5.0   \n",
       "22100219442786200                      0.0                       221.0   \n",
       "22100221145014656                      0.0                         8.0   \n",
       "\n",
       "                   notification_click_ET_min_x  object_click_ET_min_x  \\\n",
       "session_id                                                              \n",
       "20090312431273200                          0.0                    0.0   \n",
       "20090312433251036                         37.0                    0.0   \n",
       "20090312455206810                          0.0                    0.0   \n",
       "20090313091715820                          0.0                    0.0   \n",
       "20090313571836404                         77.0                   39.0   \n",
       "...                                        ...                    ...   \n",
       "22100215342220508                          0.0                    0.0   \n",
       "22100215460321130                          0.0                    0.0   \n",
       "22100217104993650                          0.0                   17.0   \n",
       "22100219442786200                          2.0                    0.0   \n",
       "22100221145014656                          4.0                    0.0   \n",
       "\n",
       "                   map_click_ET_min_x  notebook_click_ET_min_x  \n",
       "session_id                                                      \n",
       "20090312431273200                 NaN                      NaN  \n",
       "20090312433251036               159.0                     22.0  \n",
       "20090312455206810                 NaN                      NaN  \n",
       "20090313091715820                 NaN                    119.0  \n",
       "20090313571836404                 0.0                     41.0  \n",
       "...                               ...                      ...  \n",
       "22100215342220508                 NaN                      8.0  \n",
       "22100215460321130                 NaN                     11.0  \n",
       "22100217104993650               417.0                     60.0  \n",
       "22100219442786200                60.0                     69.0  \n",
       "22100221145014656                 NaN                      4.0  \n",
       "\n",
       "[23562 rows x 599 columns]"
      ]
     },
     "execution_count": 16,
     "metadata": {},
     "output_type": "execute_result"
    }
   ],
   "source": [
    "df1[FEATURES1]"
   ]
  },
  {
   "cell_type": "code",
   "execution_count": 17,
   "id": "31046cbb",
   "metadata": {
    "execution": {
     "iopub.execute_input": "2023-03-26T19:15:04.690582Z",
     "iopub.status.busy": "2023-03-26T19:15:04.690142Z",
     "iopub.status.idle": "2023-03-26T19:15:04.698922Z",
     "shell.execute_reply": "2023-03-26T19:15:04.697187Z"
    },
    "papermill": {
     "duration": 0.022579,
     "end_time": "2023-03-26T19:15:04.701975",
     "exception": false,
     "start_time": "2023-03-26T19:15:04.679396",
     "status": "completed"
    },
    "tags": []
   },
   "outputs": [],
   "source": [
    "estimators_xgb = [498, 448, 378, 364, 405, 495, 456, 249, 384, 405, 356, 262, 484, 381, 392, 248 ,248, 345]"
   ]
  },
  {
   "cell_type": "code",
   "execution_count": 18,
   "id": "25add41f",
   "metadata": {
    "execution": {
     "iopub.execute_input": "2023-03-26T19:15:04.723445Z",
     "iopub.status.busy": "2023-03-26T19:15:04.722535Z",
     "iopub.status.idle": "2023-03-26T19:15:04.729406Z",
     "shell.execute_reply": "2023-03-26T19:15:04.727727Z"
    },
    "papermill": {
     "duration": 0.02085,
     "end_time": "2023-03-26T19:15:04.732354",
     "exception": false,
     "start_time": "2023-03-26T19:15:04.711504",
     "status": "completed"
    },
    "tags": []
   },
   "outputs": [],
   "source": [
    "xgb_params = {\n",
    "        'booster': 'gbtree',\n",
    "        'tree_method': 'hist',\n",
    "        'objective': 'binary:logistic',\n",
    "        'eval_metric':'logloss',\n",
    "        'learning_rate': 0.02,\n",
    "        'alpha': 8,\n",
    "        'max_depth': 4,\n",
    "        'subsample':0.8,\n",
    "        'colsample_bytree': 0.5,\n",
    "        'seed': 42\n",
    "        }"
   ]
  },
  {
   "cell_type": "code",
   "execution_count": 19,
   "id": "29c9122c",
   "metadata": {
    "execution": {
     "iopub.execute_input": "2023-03-26T19:15:04.753315Z",
     "iopub.status.busy": "2023-03-26T19:15:04.752872Z",
     "iopub.status.idle": "2023-03-26T19:15:04.758514Z",
     "shell.execute_reply": "2023-03-26T19:15:04.757265Z"
    },
    "papermill": {
     "duration": 0.019632,
     "end_time": "2023-03-26T19:15:04.761245",
     "exception": false,
     "start_time": "2023-03-26T19:15:04.741613",
     "status": "completed"
    },
    "tags": []
   },
   "outputs": [],
   "source": [
    "# plateau = tf.keras.callbacks.ReduceLROnPlateau(\n",
    "#     monitor=\"val_loss\",\n",
    "#     factor=0.5,\n",
    "#     patience=5,\n",
    "#     verbose=0,\n",
    "#     mode=\"min\",\n",
    "#     min_delta=1e-5\n",
    "# )\n",
    "# es = tf.keras.callbacks.EarlyStopping(\n",
    "#     monitor=\"val_loss\",\n",
    "#     min_delta=1e-5,\n",
    "#     patience=20,\n",
    "#     verbose=0,\n",
    "#     mode=\"min\",\n",
    "#     restore_best_weights=True,\n",
    "# )"
   ]
  },
  {
   "cell_type": "code",
   "execution_count": 20,
   "id": "7d800a32",
   "metadata": {
    "execution": {
     "iopub.execute_input": "2023-03-26T19:15:04.781800Z",
     "iopub.status.busy": "2023-03-26T19:15:04.781351Z",
     "iopub.status.idle": "2023-03-26T19:15:04.787570Z",
     "shell.execute_reply": "2023-03-26T19:15:04.786535Z"
    },
    "papermill": {
     "duration": 0.019607,
     "end_time": "2023-03-26T19:15:04.790016",
     "exception": false,
     "start_time": "2023-03-26T19:15:04.770409",
     "status": "completed"
    },
    "tags": []
   },
   "outputs": [],
   "source": [
    "# scaler=StandardScaler()\n",
    "# df1[FEATURES1]=scaler.fit_transform(df1[FEATURES1])\n",
    "# df2[FEATURES2]=scaler.fit_transform(df2[FEATURES2])\n",
    "# df3[FEATURES3]=scaler.fit_transform(df3[FEATURES3])\n"
   ]
  },
  {
   "cell_type": "code",
   "execution_count": 21,
   "id": "3799807e",
   "metadata": {
    "execution": {
     "iopub.execute_input": "2023-03-26T19:15:04.811548Z",
     "iopub.status.busy": "2023-03-26T19:15:04.810064Z",
     "iopub.status.idle": "2023-03-26T19:15:04.816943Z",
     "shell.execute_reply": "2023-03-26T19:15:04.815231Z"
    },
    "papermill": {
     "duration": 0.02071,
     "end_time": "2023-03-26T19:15:04.819984",
     "exception": false,
     "start_time": "2023-03-26T19:15:04.799274",
     "status": "completed"
    },
    "tags": []
   },
   "outputs": [],
   "source": [
    "# df1[FEATURES1]=df1[FEATURES1].fillna(0)\n",
    "# df2[FEATURES2]=df2[FEATURES2].fillna(0)\n",
    "# df3[FEATURES3]=df3[FEATURES3].fillna(0)"
   ]
  },
  {
   "cell_type": "code",
   "execution_count": 22,
   "id": "10903546",
   "metadata": {
    "execution": {
     "iopub.execute_input": "2023-03-26T19:15:04.840963Z",
     "iopub.status.busy": "2023-03-26T19:15:04.840177Z",
     "iopub.status.idle": "2023-03-26T19:28:54.396169Z",
     "shell.execute_reply": "2023-03-26T19:28:54.394493Z"
    },
    "papermill": {
     "duration": 829.578583,
     "end_time": "2023-03-26T19:28:54.407774",
     "exception": false,
     "start_time": "2023-03-26T19:15:04.829191",
     "status": "completed"
    },
    "tags": []
   },
   "outputs": [
    {
     "name": "stdout",
     "output_type": "stream",
     "text": [
      "model XGB saved for question 1 with iterations = 498\n",
      "model XGB saved for question 2 with iterations = 448\n",
      "model XGB saved for question 3 with iterations = 378\n",
      "model XGB saved for question 4 with iterations = 364\n",
      "model XGB saved for question 5 with iterations = 405\n",
      "model XGB saved for question 6 with iterations = 495\n",
      "model XGB saved for question 7 with iterations = 456\n",
      "model XGB saved for question 8 with iterations = 249\n",
      "model XGB saved for question 9 with iterations = 384\n",
      "model XGB saved for question 10 with iterations = 405\n",
      "model XGB saved for question 11 with iterations = 356\n",
      "model XGB saved for question 12 with iterations = 262\n",
      "model XGB saved for question 13 with iterations = 484\n",
      "model XGB saved for question 14 with iterations = 381\n",
      "model XGB saved for question 15 with iterations = 392\n",
      "model XGB saved for question 16 with iterations = 248\n",
      "model XGB saved for question 17 with iterations = 248\n",
      "model XGB saved for question 18 with iterations = 345\n"
     ]
    }
   ],
   "source": [
    "warnings.filterwarnings(\"ignore\")\n",
    "targets = pd.read_parquet('/kaggle/input/how-to-get-32gb-ram/train_labels.parquet')\n",
    "targets['session'] = targets.session_id.apply(lambda x: int(x.split('_')[0]))\n",
    "targets['q'] = targets.session_id.apply(lambda x: int(x.split('_')[-1][1:]))\n",
    "pred_xgb = np.zeros((df1.shape[0],18))     \n",
    "\n",
    "\n",
    "\n",
    "for t in range(1,19):\n",
    "    # USE THIS TRAIN DATA WITH THESE QUESTIONS\n",
    "    if t<=3: \n",
    "        grp = '0-4'\n",
    "        df = df1\n",
    "        FEATURES = FEATURES1\n",
    "\n",
    "    elif t<=13: \n",
    "        grp = '5-12'\n",
    "        df = df2\n",
    "        FEATURES = FEATURES2\n",
    "\n",
    "    elif t<=22: \n",
    "        grp = '13-22'\n",
    "        df = df3\n",
    "        FEATURES = FEATURES3\n",
    "#     def create_model(hp):\n",
    "#         activation = 'selu'\n",
    "#         hp_units0=hp.Int('units0', min_value=32, max_value=512, step=32)\n",
    "#         hp_units1=hp.Int('units1', min_value=32, max_value=512, step=32)\n",
    "#         hp_units2=hp.Int('units2', min_value=32, max_value=512, step=32)\n",
    "#         hp_learning_rate=hp.Choice('lr',values=[1e-3,1e-4,1e-5])\n",
    "# #         hp_drop=hp.Float('drop0', min_value=0.4, max_value=0.9, step=0.1)\n",
    "#         inputs = Input(shape= df[FEATURES].shape[1])\n",
    "\n",
    "#         x0 = Dense(units = hp_units0, \n",
    "#                   activation = activation,\n",
    "#                  )(inputs)\n",
    "    \n",
    "#         x1 = Dense(units = hp_units1, \n",
    "#                   activation = activation,\n",
    "#                     )(x0)\n",
    "    \n",
    "#         x2 = Dense(units =hp_units2, \n",
    "#                   activation = activation,\n",
    "#                  )(x1)\n",
    "\n",
    "    \n",
    "#         x = Concatenate()([\n",
    "#                             x0, \n",
    "#                             x1, \n",
    "#                             x2\n",
    "#                           ])\n",
    "    \n",
    "#         x = Dense(units =2, \n",
    "#                   activation = 'softmax',\n",
    "#                  )(x)\n",
    "    \n",
    "#         model = Model(inputs, x)\n",
    "#         model.compile(optimizer=tf.keras.optimizers.Adam(learning_rate=hp_learning_rate),loss='categorical_crossentropy', \n",
    "#                       metrics=[tfa.metrics.F1Score(num_classes=2)])\n",
    "    \n",
    "#         return model\n",
    "\n",
    "    \n",
    "#     tuner= kt.Hyperband(\n",
    "#             create_model,\n",
    "#             overwrite=True,\n",
    "#             objective=kt.Objective(\"val_loss\", direction=\"min\"),\n",
    "#             max_epochs=50,\n",
    "#             directory=f'/kaggle/working/tune{t}',\n",
    "#             project_name=f'new project{t}',\n",
    "#             seed=1\n",
    "#             )\n",
    "    train_users = df.index.values\n",
    "    \n",
    "    train_y = targets.loc[targets.q==t].set_index('session').loc[train_users] \n",
    "\n",
    "#     tuner.search(x=df[FEATURES],y=tf.keras.utils.to_categorical(train_y['correct'], num_classes=2),validation_split = 0.2, epochs =100,\n",
    "#               batch_size=128,\n",
    "#                 callbacks=[es,plateau])\n",
    "#     best_hps=tuner.get_best_hyperparameters(num_trials=1)[0]\n",
    "#     model=tuner.hypermodel.build(best_hps)\n",
    "#     model.save(f'model{t}.h5')\n",
    "#     callbacks=[tf.keras.callbacks.ModelCheckpoint(f\"best_model_q{t}.pkl\", monitor=\"val_loss\",mode=\"min\",\n",
    "#                                                 save_best_only=True, verbose=1, save_weights_only=True),\n",
    "#                tf.keras.callbacks.EarlyStopping(monitor=\"val_loss\", min_delta=1e-5, patience=10, verbose=1, mode=\"min\", restore_best_weights=True)]\n",
    "#     model.fit(x=df[FEATURES].astype('float32'),y=tf.keras.utils.to_categorical(train_y['correct'], num_classes=2),validation_split = 0.2, epochs =1000,\n",
    "#               batch_size=128,\n",
    "#               callbacks = callbacks)\n",
    "\n",
    "    xgb_params['n_estimators'] = estimators_xgb[t-1]\n",
    "     \n",
    "    # TRAIN DATA\n",
    "    train_users = df.index.values\n",
    "    train_y = targets.loc[targets.q==t].set_index('session').loc[train_users] \n",
    "\n",
    "    clf =  XGBClassifier(**xgb_params)\n",
    "    clf.fit(df[FEATURES].astype('float32'), train_y['correct'], verbose = True)\n",
    "    clf.save_model(f'XGB_question{t}.xgb')\n",
    "    \n",
    "    print(f'model XGB saved for question {t} with iterations = {estimators_xgb[t-1]}')"
   ]
  },
  {
   "cell_type": "code",
   "execution_count": null,
   "id": "2ba40bf3",
   "metadata": {
    "papermill": {
     "duration": 0.009704,
     "end_time": "2023-03-26T19:28:54.427635",
     "exception": false,
     "start_time": "2023-03-26T19:28:54.417931",
     "status": "completed"
    },
    "tags": []
   },
   "outputs": [],
   "source": []
  },
  {
   "cell_type": "code",
   "execution_count": null,
   "id": "d0a9ebb0",
   "metadata": {
    "papermill": {
     "duration": 0.009519,
     "end_time": "2023-03-26T19:28:54.447249",
     "exception": false,
     "start_time": "2023-03-26T19:28:54.437730",
     "status": "completed"
    },
    "tags": []
   },
   "outputs": [],
   "source": []
  },
  {
   "cell_type": "code",
   "execution_count": null,
   "id": "8cbc6a42",
   "metadata": {
    "papermill": {
     "duration": 0.009541,
     "end_time": "2023-03-26T19:28:54.466533",
     "exception": false,
     "start_time": "2023-03-26T19:28:54.456992",
     "status": "completed"
    },
    "tags": []
   },
   "outputs": [],
   "source": []
  },
  {
   "cell_type": "code",
   "execution_count": null,
   "id": "c887e419",
   "metadata": {
    "papermill": {
     "duration": 0.009569,
     "end_time": "2023-03-26T19:28:54.486098",
     "exception": false,
     "start_time": "2023-03-26T19:28:54.476529",
     "status": "completed"
    },
    "tags": []
   },
   "outputs": [],
   "source": []
  },
  {
   "cell_type": "code",
   "execution_count": null,
   "id": "a9e1abc1",
   "metadata": {
    "papermill": {
     "duration": 0.009357,
     "end_time": "2023-03-26T19:28:54.505278",
     "exception": false,
     "start_time": "2023-03-26T19:28:54.495921",
     "status": "completed"
    },
    "tags": []
   },
   "outputs": [],
   "source": []
  },
  {
   "cell_type": "code",
   "execution_count": null,
   "id": "cb1355ca",
   "metadata": {
    "papermill": {
     "duration": 0.009464,
     "end_time": "2023-03-26T19:28:54.524519",
     "exception": false,
     "start_time": "2023-03-26T19:28:54.515055",
     "status": "completed"
    },
    "tags": []
   },
   "outputs": [],
   "source": []
  },
  {
   "cell_type": "code",
   "execution_count": null,
   "id": "b0b359a8",
   "metadata": {
    "papermill": {
     "duration": 0.009641,
     "end_time": "2023-03-26T19:28:54.544011",
     "exception": false,
     "start_time": "2023-03-26T19:28:54.534370",
     "status": "completed"
    },
    "tags": []
   },
   "outputs": [],
   "source": []
  }
 ],
 "metadata": {
  "kernelspec": {
   "display_name": "Python 3",
   "language": "python",
   "name": "python3"
  },
  "language_info": {
   "codemirror_mode": {
    "name": "ipython",
    "version": 3
   },
   "file_extension": ".py",
   "mimetype": "text/x-python",
   "name": "python",
   "nbconvert_exporter": "python",
   "pygments_lexer": "ipython3",
   "version": "3.7.12"
  },
  "papermill": {
   "default_parameters": {},
   "duration": 1005.378003,
   "end_time": "2023-03-26T19:28:57.813618",
   "environment_variables": {},
   "exception": null,
   "input_path": "__notebook__.ipynb",
   "output_path": "__notebook__.ipynb",
   "parameters": {},
   "start_time": "2023-03-26T19:12:12.435615",
   "version": "2.4.0"
  }
 },
 "nbformat": 4,
 "nbformat_minor": 5
}
